{
  "nbformat": 4,
  "nbformat_minor": 0,
  "metadata": {
    "colab": {
      "name": "food_sales_predition.ipynb",
      "provenance": [],
      "collapsed_sections": [
        "TkGogxf62YRu",
        "SLUoSLqOxKJ9",
        "SINCEn0D1P8s"
      ],
      "mount_file_id": "1Ej1ZhsdhrEzm9X-t-8ciGZhPO0wqNz6J",
      "authorship_tag": "ABX9TyMSXPhqgdCvA4X1tJiv+JNi",
      "include_colab_link": true
    },
    "kernelspec": {
      "name": "python3",
      "display_name": "Python 3"
    },
    "language_info": {
      "name": "python"
    }
  },
  "cells": [
    {
      "cell_type": "markdown",
      "metadata": {
        "id": "view-in-github",
        "colab_type": "text"
      },
      "source": [
        "<a href=\"https://colab.research.google.com/github/bngrossmann/food-sales-predictions/blob/main/food_sales_predition.ipynb\" target=\"_parent\"><img src=\"https://colab.research.google.com/assets/colab-badge.svg\" alt=\"Open In Colab\"/></a>"
      ]
    },
    {
      "cell_type": "markdown",
      "source": [
        "# Food Sales Prediction\n",
        "-Benjamin N. Grossmann\n",
        "\n",
        "This project is currently a work in progress."
      ],
      "metadata": {
        "id": "2spiXcYc9kZz"
      }
    },
    {
      "cell_type": "markdown",
      "source": [
        "---\n",
        "# → Loading and Examining the Data\n",
        "___\n"
      ],
      "metadata": {
        "id": "TkGogxf62YRu"
      }
    },
    {
      "cell_type": "code",
      "execution_count": 1,
      "metadata": {
        "id": "p-DcSEpUCsvI",
        "colab": {
          "base_uri": "https://localhost:8080/",
          "height": 556
        },
        "outputId": "1d962f40-8dff-4a98-d24a-9bb69005c63f"
      },
      "outputs": [
        {
          "output_type": "display_data",
          "data": {
            "text/plain": [
              "  Item_Identifier  Item_Weight Item_Fat_Content  Item_Visibility  \\\n",
              "0           FDA15         9.30          Low Fat         0.016047   \n",
              "1           DRC01         5.92          Regular         0.019278   \n",
              "2           FDN15        17.50          Low Fat         0.016760   \n",
              "3           FDX07        19.20          Regular         0.000000   \n",
              "4           NCD19         8.93          Low Fat         0.000000   \n",
              "\n",
              "               Item_Type  Item_MRP Outlet_Identifier  \\\n",
              "0                  Dairy  249.8092            OUT049   \n",
              "1            Soft Drinks   48.2692            OUT018   \n",
              "2                   Meat  141.6180            OUT049   \n",
              "3  Fruits and Vegetables  182.0950            OUT010   \n",
              "4              Household   53.8614            OUT013   \n",
              "\n",
              "   Outlet_Establishment_Year Outlet_Size Outlet_Location_Type  \\\n",
              "0                       1999      Medium               Tier 1   \n",
              "1                       2009      Medium               Tier 3   \n",
              "2                       1999      Medium               Tier 1   \n",
              "3                       1998         NaN               Tier 3   \n",
              "4                       1987        High               Tier 3   \n",
              "\n",
              "         Outlet_Type  Item_Outlet_Sales  \n",
              "0  Supermarket Type1          3735.1380  \n",
              "1  Supermarket Type2           443.4228  \n",
              "2  Supermarket Type1          2097.2700  \n",
              "3      Grocery Store           732.3800  \n",
              "4  Supermarket Type1           994.7052  "
            ],
            "text/html": [
              "\n",
              "  <div id=\"df-9cd720a3-641c-4e0d-aebb-2d93842eee1d\">\n",
              "    <div class=\"colab-df-container\">\n",
              "      <div>\n",
              "<style scoped>\n",
              "    .dataframe tbody tr th:only-of-type {\n",
              "        vertical-align: middle;\n",
              "    }\n",
              "\n",
              "    .dataframe tbody tr th {\n",
              "        vertical-align: top;\n",
              "    }\n",
              "\n",
              "    .dataframe thead th {\n",
              "        text-align: right;\n",
              "    }\n",
              "</style>\n",
              "<table border=\"1\" class=\"dataframe\">\n",
              "  <thead>\n",
              "    <tr style=\"text-align: right;\">\n",
              "      <th></th>\n",
              "      <th>Item_Identifier</th>\n",
              "      <th>Item_Weight</th>\n",
              "      <th>Item_Fat_Content</th>\n",
              "      <th>Item_Visibility</th>\n",
              "      <th>Item_Type</th>\n",
              "      <th>Item_MRP</th>\n",
              "      <th>Outlet_Identifier</th>\n",
              "      <th>Outlet_Establishment_Year</th>\n",
              "      <th>Outlet_Size</th>\n",
              "      <th>Outlet_Location_Type</th>\n",
              "      <th>Outlet_Type</th>\n",
              "      <th>Item_Outlet_Sales</th>\n",
              "    </tr>\n",
              "  </thead>\n",
              "  <tbody>\n",
              "    <tr>\n",
              "      <th>0</th>\n",
              "      <td>FDA15</td>\n",
              "      <td>9.30</td>\n",
              "      <td>Low Fat</td>\n",
              "      <td>0.016047</td>\n",
              "      <td>Dairy</td>\n",
              "      <td>249.8092</td>\n",
              "      <td>OUT049</td>\n",
              "      <td>1999</td>\n",
              "      <td>Medium</td>\n",
              "      <td>Tier 1</td>\n",
              "      <td>Supermarket Type1</td>\n",
              "      <td>3735.1380</td>\n",
              "    </tr>\n",
              "    <tr>\n",
              "      <th>1</th>\n",
              "      <td>DRC01</td>\n",
              "      <td>5.92</td>\n",
              "      <td>Regular</td>\n",
              "      <td>0.019278</td>\n",
              "      <td>Soft Drinks</td>\n",
              "      <td>48.2692</td>\n",
              "      <td>OUT018</td>\n",
              "      <td>2009</td>\n",
              "      <td>Medium</td>\n",
              "      <td>Tier 3</td>\n",
              "      <td>Supermarket Type2</td>\n",
              "      <td>443.4228</td>\n",
              "    </tr>\n",
              "    <tr>\n",
              "      <th>2</th>\n",
              "      <td>FDN15</td>\n",
              "      <td>17.50</td>\n",
              "      <td>Low Fat</td>\n",
              "      <td>0.016760</td>\n",
              "      <td>Meat</td>\n",
              "      <td>141.6180</td>\n",
              "      <td>OUT049</td>\n",
              "      <td>1999</td>\n",
              "      <td>Medium</td>\n",
              "      <td>Tier 1</td>\n",
              "      <td>Supermarket Type1</td>\n",
              "      <td>2097.2700</td>\n",
              "    </tr>\n",
              "    <tr>\n",
              "      <th>3</th>\n",
              "      <td>FDX07</td>\n",
              "      <td>19.20</td>\n",
              "      <td>Regular</td>\n",
              "      <td>0.000000</td>\n",
              "      <td>Fruits and Vegetables</td>\n",
              "      <td>182.0950</td>\n",
              "      <td>OUT010</td>\n",
              "      <td>1998</td>\n",
              "      <td>NaN</td>\n",
              "      <td>Tier 3</td>\n",
              "      <td>Grocery Store</td>\n",
              "      <td>732.3800</td>\n",
              "    </tr>\n",
              "    <tr>\n",
              "      <th>4</th>\n",
              "      <td>NCD19</td>\n",
              "      <td>8.93</td>\n",
              "      <td>Low Fat</td>\n",
              "      <td>0.000000</td>\n",
              "      <td>Household</td>\n",
              "      <td>53.8614</td>\n",
              "      <td>OUT013</td>\n",
              "      <td>1987</td>\n",
              "      <td>High</td>\n",
              "      <td>Tier 3</td>\n",
              "      <td>Supermarket Type1</td>\n",
              "      <td>994.7052</td>\n",
              "    </tr>\n",
              "  </tbody>\n",
              "</table>\n",
              "</div>\n",
              "      <button class=\"colab-df-convert\" onclick=\"convertToInteractive('df-9cd720a3-641c-4e0d-aebb-2d93842eee1d')\"\n",
              "              title=\"Convert this dataframe to an interactive table.\"\n",
              "              style=\"display:none;\">\n",
              "        \n",
              "  <svg xmlns=\"http://www.w3.org/2000/svg\" height=\"24px\"viewBox=\"0 0 24 24\"\n",
              "       width=\"24px\">\n",
              "    <path d=\"M0 0h24v24H0V0z\" fill=\"none\"/>\n",
              "    <path d=\"M18.56 5.44l.94 2.06.94-2.06 2.06-.94-2.06-.94-.94-2.06-.94 2.06-2.06.94zm-11 1L8.5 8.5l.94-2.06 2.06-.94-2.06-.94L8.5 2.5l-.94 2.06-2.06.94zm10 10l.94 2.06.94-2.06 2.06-.94-2.06-.94-.94-2.06-.94 2.06-2.06.94z\"/><path d=\"M17.41 7.96l-1.37-1.37c-.4-.4-.92-.59-1.43-.59-.52 0-1.04.2-1.43.59L10.3 9.45l-7.72 7.72c-.78.78-.78 2.05 0 2.83L4 21.41c.39.39.9.59 1.41.59.51 0 1.02-.2 1.41-.59l7.78-7.78 2.81-2.81c.8-.78.8-2.07 0-2.86zM5.41 20L4 18.59l7.72-7.72 1.47 1.35L5.41 20z\"/>\n",
              "  </svg>\n",
              "      </button>\n",
              "      \n",
              "  <style>\n",
              "    .colab-df-container {\n",
              "      display:flex;\n",
              "      flex-wrap:wrap;\n",
              "      gap: 12px;\n",
              "    }\n",
              "\n",
              "    .colab-df-convert {\n",
              "      background-color: #E8F0FE;\n",
              "      border: none;\n",
              "      border-radius: 50%;\n",
              "      cursor: pointer;\n",
              "      display: none;\n",
              "      fill: #1967D2;\n",
              "      height: 32px;\n",
              "      padding: 0 0 0 0;\n",
              "      width: 32px;\n",
              "    }\n",
              "\n",
              "    .colab-df-convert:hover {\n",
              "      background-color: #E2EBFA;\n",
              "      box-shadow: 0px 1px 2px rgba(60, 64, 67, 0.3), 0px 1px 3px 1px rgba(60, 64, 67, 0.15);\n",
              "      fill: #174EA6;\n",
              "    }\n",
              "\n",
              "    [theme=dark] .colab-df-convert {\n",
              "      background-color: #3B4455;\n",
              "      fill: #D2E3FC;\n",
              "    }\n",
              "\n",
              "    [theme=dark] .colab-df-convert:hover {\n",
              "      background-color: #434B5C;\n",
              "      box-shadow: 0px 1px 3px 1px rgba(0, 0, 0, 0.15);\n",
              "      filter: drop-shadow(0px 1px 2px rgba(0, 0, 0, 0.3));\n",
              "      fill: #FFFFFF;\n",
              "    }\n",
              "  </style>\n",
              "\n",
              "      <script>\n",
              "        const buttonEl =\n",
              "          document.querySelector('#df-9cd720a3-641c-4e0d-aebb-2d93842eee1d button.colab-df-convert');\n",
              "        buttonEl.style.display =\n",
              "          google.colab.kernel.accessAllowed ? 'block' : 'none';\n",
              "\n",
              "        async function convertToInteractive(key) {\n",
              "          const element = document.querySelector('#df-9cd720a3-641c-4e0d-aebb-2d93842eee1d');\n",
              "          const dataTable =\n",
              "            await google.colab.kernel.invokeFunction('convertToInteractive',\n",
              "                                                     [key], {});\n",
              "          if (!dataTable) return;\n",
              "\n",
              "          const docLinkHtml = 'Like what you see? Visit the ' +\n",
              "            '<a target=\"_blank\" href=https://colab.research.google.com/notebooks/data_table.ipynb>data table notebook</a>'\n",
              "            + ' to learn more about interactive tables.';\n",
              "          element.innerHTML = '';\n",
              "          dataTable['output_type'] = 'display_data';\n",
              "          await google.colab.output.renderOutput(dataTable, element);\n",
              "          const docLink = document.createElement('div');\n",
              "          docLink.innerHTML = docLinkHtml;\n",
              "          element.appendChild(docLink);\n",
              "        }\n",
              "      </script>\n",
              "    </div>\n",
              "  </div>\n",
              "  "
            ]
          },
          "metadata": {}
        },
        {
          "output_type": "stream",
          "name": "stdout",
          "text": [
            "<class 'pandas.core.frame.DataFrame'>\n",
            "RangeIndex: 8523 entries, 0 to 8522\n",
            "Data columns (total 12 columns):\n",
            " #   Column                     Non-Null Count  Dtype  \n",
            "---  ------                     --------------  -----  \n",
            " 0   Item_Identifier            8523 non-null   object \n",
            " 1   Item_Weight                7060 non-null   float64\n",
            " 2   Item_Fat_Content           8523 non-null   object \n",
            " 3   Item_Visibility            8523 non-null   float64\n",
            " 4   Item_Type                  8523 non-null   object \n",
            " 5   Item_MRP                   8523 non-null   float64\n",
            " 6   Outlet_Identifier          8523 non-null   object \n",
            " 7   Outlet_Establishment_Year  8523 non-null   int64  \n",
            " 8   Outlet_Size                6113 non-null   object \n",
            " 9   Outlet_Location_Type       8523 non-null   object \n",
            " 10  Outlet_Type                8523 non-null   object \n",
            " 11  Item_Outlet_Sales          8523 non-null   float64\n",
            "dtypes: float64(4), int64(1), object(7)\n",
            "memory usage: 799.2+ KB\n"
          ]
        }
      ],
      "source": [
        "import numpy as np\n",
        "import pandas as pd\n",
        "\n",
        "filename = \"/content/drive/MyDrive/Coding Dojo/Data Folder/sales_predictions.csv\"\n",
        "df_sales = pd.read_csv(filename)\n",
        "display(df_sales.head())\n",
        "df_sales.info()"
      ]
    },
    {
      "cell_type": "markdown",
      "source": [
        "There are 8523 rows of data across 12 columns.\n",
        "\n",
        "A comparison of the datatypes for each column to the expected information type (infered from the information displayed in the `.head()` above) appears to be consistent.\n",
        "\n",
        "* alphanumeric codes → `object`\n",
        "    * Item_Identifier, Outlet_Identifier\n",
        "* qualitative categories → `object`\n",
        "    * Item_Fat_Content, Item_Type, Outlet_Size, Outlet_Location, Outlet_Type\n",
        "* quantitative measurement → `float64`\n",
        "    * Item_Weight, Item_Visibiltiy, Item_MRP, Item_Outlet_Sales\n",
        "* year → `int64`\n",
        "    * Outlet_Establishment_Year\n",
        "\n",
        "\n",
        " (I will note that we are not given the units of measure for any of the numeric quantities.)"
      ],
      "metadata": {
        "id": "3FhvZ9U83yp4"
      }
    },
    {
      "cell_type": "markdown",
      "source": [
        "---\n",
        "Because there are Item_Identifier and Outlet_Identifier values, I am inferring these should be unique for each item and each outlet."
      ],
      "metadata": {
        "id": "Q8BaXCh__eMb"
      }
    },
    {
      "cell_type": "code",
      "source": [
        "df_sales.nunique()"
      ],
      "metadata": {
        "colab": {
          "base_uri": "https://localhost:8080/"
        },
        "id": "RSYtNgGO_e53",
        "outputId": "a956a3dc-94d6-4652-ae13-11a995518b8d"
      },
      "execution_count": 2,
      "outputs": [
        {
          "output_type": "execute_result",
          "data": {
            "text/plain": [
              "Item_Identifier              1559\n",
              "Item_Weight                   415\n",
              "Item_Fat_Content                5\n",
              "Item_Visibility              7880\n",
              "Item_Type                      16\n",
              "Item_MRP                     5938\n",
              "Outlet_Identifier              10\n",
              "Outlet_Establishment_Year       9\n",
              "Outlet_Size                     3\n",
              "Outlet_Location_Type            3\n",
              "Outlet_Type                     4\n",
              "Item_Outlet_Sales            3493\n",
              "dtype: int64"
            ]
          },
          "metadata": {},
          "execution_count": 2
        }
      ]
    },
    {
      "cell_type": "markdown",
      "source": [
        "There are 1559 unique Item_Identifier values and 10 unique Outlet_Identifier values. Since each item can potentially be sold at each outlet, there will be at most 15,590 unique item-outlet pairs. Since there are only 8523 rows of data, there is no obvious red flag of duplicated data rows.\n",
        "\n",
        "However, there could still be duplicated data rows present. Because each row should be unique, an attempt to drop any duplicates should still be made. "
      ],
      "metadata": {
        "id": "Hbdb3Jv0AOBi"
      }
    },
    {
      "cell_type": "code",
      "source": [
        "df_sales.drop_duplicates(keep=False, inplace=True)\n",
        "df_sales.info()"
      ],
      "metadata": {
        "colab": {
          "base_uri": "https://localhost:8080/"
        },
        "id": "46rEHtk5zot9",
        "outputId": "a2ab0318-cc07-4298-ade7-ece9ce27388a"
      },
      "execution_count": 3,
      "outputs": [
        {
          "output_type": "stream",
          "name": "stdout",
          "text": [
            "<class 'pandas.core.frame.DataFrame'>\n",
            "Int64Index: 8523 entries, 0 to 8522\n",
            "Data columns (total 12 columns):\n",
            " #   Column                     Non-Null Count  Dtype  \n",
            "---  ------                     --------------  -----  \n",
            " 0   Item_Identifier            8523 non-null   object \n",
            " 1   Item_Weight                7060 non-null   float64\n",
            " 2   Item_Fat_Content           8523 non-null   object \n",
            " 3   Item_Visibility            8523 non-null   float64\n",
            " 4   Item_Type                  8523 non-null   object \n",
            " 5   Item_MRP                   8523 non-null   float64\n",
            " 6   Outlet_Identifier          8523 non-null   object \n",
            " 7   Outlet_Establishment_Year  8523 non-null   int64  \n",
            " 8   Outlet_Size                6113 non-null   object \n",
            " 9   Outlet_Location_Type       8523 non-null   object \n",
            " 10  Outlet_Type                8523 non-null   object \n",
            " 11  Item_Outlet_Sales          8523 non-null   float64\n",
            "dtypes: float64(4), int64(1), object(7)\n",
            "memory usage: 865.6+ KB\n"
          ]
        }
      ]
    },
    {
      "cell_type": "markdown",
      "source": [
        "---\n",
        "# → Checking Category Names for Consistency\n",
        "\n",
        "---"
      ],
      "metadata": {
        "id": "SLUoSLqOxKJ9"
      }
    },
    {
      "cell_type": "markdown",
      "source": [
        "There may also be a problem with inconsistent category names. Checking each of the qualitative categories can be done with a `.unique()` or `.value_counts()` method. I find the alignment of the  `.value_counts()` method to be easier to read quickly. I can also the series with `.sort_index()` to get the series in capitalization-alphabetical order. This will make it easier to spot similar entries.\n",
        "\n",
        "First, the `Item_Fat_Content` column values."
      ],
      "metadata": {
        "id": "_N0JlxDyr8DH"
      }
    },
    {
      "cell_type": "code",
      "source": [
        "df_sales[\"Item_Fat_Content\"].value_counts().sort_index()"
      ],
      "metadata": {
        "colab": {
          "base_uri": "https://localhost:8080/"
        },
        "id": "sPIPrmhPr7iG",
        "outputId": "c48e06a0-dfdb-491d-ab27-0cbda4dc3872"
      },
      "execution_count": 4,
      "outputs": [
        {
          "output_type": "execute_result",
          "data": {
            "text/plain": [
              "LF          316\n",
              "Low Fat    5089\n",
              "Regular    2889\n",
              "low fat     112\n",
              "reg         117\n",
              "Name: Item_Fat_Content, dtype: int64"
            ]
          },
          "metadata": {},
          "execution_count": 4
        }
      ]
    },
    {
      "cell_type": "markdown",
      "source": [
        "There are inconsistant naming conventions used in the `Item_Fat_Content` column. They can be corrected with a `.replace()` method and quickly checked. I will use the initial-capital format which consistant with the column names."
      ],
      "metadata": {
        "id": "L0hhCxfyzBg1"
      }
    },
    {
      "cell_type": "code",
      "source": [
        "df_sales.replace({\"LF\":\"Low Fat\",\"low fat\":\"Low Fat\",\"reg\":\"Regular\"}, inplace=True)\n",
        "df_sales[\"Item_Fat_Content\"].value_counts()"
      ],
      "metadata": {
        "colab": {
          "base_uri": "https://localhost:8080/"
        },
        "id": "W3VJrQbjx6OF",
        "outputId": "71b396e6-8400-4612-94d3-77e144af4ab9"
      },
      "execution_count": 5,
      "outputs": [
        {
          "output_type": "execute_result",
          "data": {
            "text/plain": [
              "Low Fat    5517\n",
              "Regular    3006\n",
              "Name: Item_Fat_Content, dtype: int64"
            ]
          },
          "metadata": {},
          "execution_count": 5
        }
      ]
    },
    {
      "cell_type": "markdown",
      "source": [
        "Next, the `Item_Type` column values."
      ],
      "metadata": {
        "id": "8j0McTbyyWQH"
      }
    },
    {
      "cell_type": "code",
      "source": [
        "df_sales[\"Item_Type\"].value_counts().sort_index()"
      ],
      "metadata": {
        "colab": {
          "base_uri": "https://localhost:8080/"
        },
        "id": "BIsJsKXSsOE8",
        "outputId": "a2e6cac9-5520-4930-fd7c-e37669b37127"
      },
      "execution_count": 6,
      "outputs": [
        {
          "output_type": "execute_result",
          "data": {
            "text/plain": [
              "Baking Goods              648\n",
              "Breads                    251\n",
              "Breakfast                 110\n",
              "Canned                    649\n",
              "Dairy                     682\n",
              "Frozen Foods              856\n",
              "Fruits and Vegetables    1232\n",
              "Hard Drinks               214\n",
              "Health and Hygiene        520\n",
              "Household                 910\n",
              "Meat                      425\n",
              "Others                    169\n",
              "Seafood                    64\n",
              "Snack Foods              1200\n",
              "Soft Drinks               445\n",
              "Starchy Foods             148\n",
              "Name: Item_Type, dtype: int64"
            ]
          },
          "metadata": {},
          "execution_count": 6
        }
      ]
    },
    {
      "cell_type": "markdown",
      "source": [
        "These appear to be fine.\n",
        "\n",
        "Finally, the `Outlet_Type` column values."
      ],
      "metadata": {
        "id": "Xxj4fxKxycst"
      }
    },
    {
      "cell_type": "code",
      "source": [
        "df_sales[\"Outlet_Type\"].value_counts().sort_index()"
      ],
      "metadata": {
        "colab": {
          "base_uri": "https://localhost:8080/"
        },
        "id": "N0Dm9yJcsSS3",
        "outputId": "665adad5-d011-442e-e6a9-70d77701e968"
      },
      "execution_count": 7,
      "outputs": [
        {
          "output_type": "execute_result",
          "data": {
            "text/plain": [
              "Grocery Store        1083\n",
              "Supermarket Type1    5577\n",
              "Supermarket Type2     928\n",
              "Supermarket Type3     935\n",
              "Name: Outlet_Type, dtype: int64"
            ]
          },
          "metadata": {},
          "execution_count": 7
        }
      ]
    },
    {
      "cell_type": "markdown",
      "source": [
        "These also appear fine.\n",
        "\n",
        "After cleaning up the category names, I will drop any rows that might be duplicates."
      ],
      "metadata": {
        "id": "Zf3MwKdgr8a3"
      }
    },
    {
      "cell_type": "code",
      "source": [
        "df_sales.drop_duplicates(keep=False, inplace=True)\n",
        "df_sales.info()"
      ],
      "metadata": {
        "colab": {
          "base_uri": "https://localhost:8080/"
        },
        "id": "fTpd0oXbCTyq",
        "outputId": "f9a6053c-2b4a-4fb9-f3ea-377ab6d784b7"
      },
      "execution_count": 8,
      "outputs": [
        {
          "output_type": "stream",
          "name": "stdout",
          "text": [
            "<class 'pandas.core.frame.DataFrame'>\n",
            "Int64Index: 8523 entries, 0 to 8522\n",
            "Data columns (total 12 columns):\n",
            " #   Column                     Non-Null Count  Dtype  \n",
            "---  ------                     --------------  -----  \n",
            " 0   Item_Identifier            8523 non-null   object \n",
            " 1   Item_Weight                7060 non-null   float64\n",
            " 2   Item_Fat_Content           8523 non-null   object \n",
            " 3   Item_Visibility            8523 non-null   float64\n",
            " 4   Item_Type                  8523 non-null   object \n",
            " 5   Item_MRP                   8523 non-null   float64\n",
            " 6   Outlet_Identifier          8523 non-null   object \n",
            " 7   Outlet_Establishment_Year  8523 non-null   int64  \n",
            " 8   Outlet_Size                6113 non-null   object \n",
            " 9   Outlet_Location_Type       8523 non-null   object \n",
            " 10  Outlet_Type                8523 non-null   object \n",
            " 11  Item_Outlet_Sales          8523 non-null   float64\n",
            "dtypes: float64(4), int64(1), object(7)\n",
            "memory usage: 865.6+ KB\n"
          ]
        }
      ]
    },
    {
      "cell_type": "markdown",
      "source": [
        "The number of rows (8523) has not changed, so no rows has been identified as a duplicate at this time."
      ],
      "metadata": {
        "id": "-DFrRoNSD1o7"
      }
    },
    {
      "cell_type": "markdown",
      "source": [
        "---\n",
        "# → Filling in Missing Data\n",
        "\n",
        "---"
      ],
      "metadata": {
        "id": "nAcQAATQzDpw"
      }
    },
    {
      "cell_type": "markdown",
      "source": [
        "There are some columns in the dataframe that are missing values; the Item_Weight and Outlet_Size counts are less then 8523. How many are actually missing can be quickly calculated."
      ],
      "metadata": {
        "id": "bX-HoZ2f-iOL"
      }
    },
    {
      "cell_type": "code",
      "source": [
        "for column in df_sales:\n",
        "    if df_sales.shape[0] - df_sales[column].count() > 0:\n",
        "        print(df_sales.shape[0] - df_sales[column].count() , \"values are missing from '\"+ column +\"'\" )"
      ],
      "metadata": {
        "colab": {
          "base_uri": "https://localhost:8080/"
        },
        "id": "BTCpwYIfqTdP",
        "outputId": "243aa123-0919-41a5-b10d-7643ddd1b740"
      },
      "execution_count": 9,
      "outputs": [
        {
          "output_type": "stream",
          "name": "stdout",
          "text": [
            "1463 values are missing from 'Item_Weight'\n",
            "2410 values are missing from 'Outlet_Size'\n"
          ]
        }
      ]
    },
    {
      "cell_type": "markdown",
      "source": [
        "Because there are only two columns with missing data, there are only three kinds of rows with missing data\n",
        "* Missing only `Item_Weight`\n",
        "* Missing only `Outlet_Size`\n",
        "* Missing both `Item_Weight` and `Outlet_Size`\n"
      ],
      "metadata": {
        "id": "n-kCRdI6FLqV"
      }
    },
    {
      "cell_type": "markdown",
      "source": [
        "## →→ Item Weight"
      ],
      "metadata": {
        "id": "SINCEn0D1P8s"
      }
    },
    {
      "cell_type": "markdown",
      "source": [
        "\n",
        "To address the missing `Item_Weight` values, the corresponding `Item_Identifier` values should be examined. Items with the same `Item_Identifier` should be produced with uniform physical characteristics. The `Item_Weights` is a physical characteristic, so will be constant for a given `Item_Identifier`.\n",
        "\n",
        "I can determine the mean value of the weight of a given item and replace its missing weights with that mean. If all the known weights of an item are the same, then the mean will also be that value.\n",
        "\n",
        "If an item has no weights in the data set, then if will not recieve any weight value replacements."
      ],
      "metadata": {
        "id": "sVcOT0DQN8Yr"
      }
    },
    {
      "cell_type": "code",
      "source": [
        "# This was the previous way I did this. However it assumes all items have at least 1 row with a weight value and all the weights are the same for a given item.\n",
        "# However, if an item does not have a weight in any of its row, it will recieve the wrong value.\n",
        "# df_sales.sort_values([\"Item_Identifier\",\"Item_Weight\"]).loc[:,\"Item_Identifier\":\"Item_Weight\"].fillna(method='ffill').drop_duplicates()\n",
        "\n",
        "# New method: scan through the item identifiers then assign the mean value of the item's weight to the values in its missing rows.\n",
        "# This will not assign weights to items that have no weight prestent.\n",
        "# The mean value accomadates the possiblity that the item weight may vary.\n",
        "# Changed on 3/12/2022\n",
        "\n",
        "for item_code in df_sales.loc[:,\"Item_Identifier\"].drop_duplicates().sort_values():\n",
        "    filter_item = ( df_sales[\"Item_Identifier\"] == item_code )\n",
        "    mean_item_weight = round(df_sales.loc[ filter_item, \"Item_Weight\"].mean(),3)\n",
        "    df_sales.update( df_sales.loc[ filter_item , \"Item_Weight\"].fillna(value = mean_item_weight, inplace=False),overwrite=False)\n",
        "\n",
        "# Let's inspect the info()\n",
        "display(df_sales.info())"
      ],
      "metadata": {
        "colab": {
          "base_uri": "https://localhost:8080/",
          "height": 0
        },
        "id": "7ZCI2_4aDMTi",
        "outputId": "8d9767b4-16db-4d1d-8e6f-6fca0090b61b"
      },
      "execution_count": 10,
      "outputs": [
        {
          "output_type": "stream",
          "name": "stdout",
          "text": [
            "<class 'pandas.core.frame.DataFrame'>\n",
            "Int64Index: 8523 entries, 0 to 8522\n",
            "Data columns (total 12 columns):\n",
            " #   Column                     Non-Null Count  Dtype  \n",
            "---  ------                     --------------  -----  \n",
            " 0   Item_Identifier            8523 non-null   object \n",
            " 1   Item_Weight                8519 non-null   float64\n",
            " 2   Item_Fat_Content           8523 non-null   object \n",
            " 3   Item_Visibility            8523 non-null   float64\n",
            " 4   Item_Type                  8523 non-null   object \n",
            " 5   Item_MRP                   8523 non-null   float64\n",
            " 6   Outlet_Identifier          8523 non-null   object \n",
            " 7   Outlet_Establishment_Year  8523 non-null   int64  \n",
            " 8   Outlet_Size                6113 non-null   object \n",
            " 9   Outlet_Location_Type       8523 non-null   object \n",
            " 10  Outlet_Type                8523 non-null   object \n",
            " 11  Item_Outlet_Sales          8523 non-null   float64\n",
            "dtypes: float64(4), int64(1), object(7)\n",
            "memory usage: 865.6+ KB\n"
          ]
        },
        {
          "output_type": "display_data",
          "data": {
            "text/plain": [
              "None"
            ]
          },
          "metadata": {}
        }
      ]
    },
    {
      "cell_type": "markdown",
      "source": [
        "There are still some items with no weight values!"
      ],
      "metadata": {
        "id": "98hnzI4iNc_n"
      }
    },
    {
      "cell_type": "code",
      "source": [
        "df_sales.loc[ pd.isna(df_sales[\"Item_Weight\"]) , [\"Item_Identifier\",\"Item_Weight\"]]"
      ],
      "metadata": {
        "colab": {
          "base_uri": "https://localhost:8080/",
          "height": 0
        },
        "id": "6NzyQxvJLUYd",
        "outputId": "7a985a69-9686-496e-cb13-22089b2f0154"
      },
      "execution_count": 11,
      "outputs": [
        {
          "output_type": "execute_result",
          "data": {
            "text/plain": [
              "     Item_Identifier  Item_Weight\n",
              "927            FDN52          NaN\n",
              "1922           FDK57          NaN\n",
              "4187           FDE52          NaN\n",
              "5022           FDQ60          NaN"
            ],
            "text/html": [
              "\n",
              "  <div id=\"df-32e3f9e9-a064-46d7-bc1c-420f13af4f56\">\n",
              "    <div class=\"colab-df-container\">\n",
              "      <div>\n",
              "<style scoped>\n",
              "    .dataframe tbody tr th:only-of-type {\n",
              "        vertical-align: middle;\n",
              "    }\n",
              "\n",
              "    .dataframe tbody tr th {\n",
              "        vertical-align: top;\n",
              "    }\n",
              "\n",
              "    .dataframe thead th {\n",
              "        text-align: right;\n",
              "    }\n",
              "</style>\n",
              "<table border=\"1\" class=\"dataframe\">\n",
              "  <thead>\n",
              "    <tr style=\"text-align: right;\">\n",
              "      <th></th>\n",
              "      <th>Item_Identifier</th>\n",
              "      <th>Item_Weight</th>\n",
              "    </tr>\n",
              "  </thead>\n",
              "  <tbody>\n",
              "    <tr>\n",
              "      <th>927</th>\n",
              "      <td>FDN52</td>\n",
              "      <td>NaN</td>\n",
              "    </tr>\n",
              "    <tr>\n",
              "      <th>1922</th>\n",
              "      <td>FDK57</td>\n",
              "      <td>NaN</td>\n",
              "    </tr>\n",
              "    <tr>\n",
              "      <th>4187</th>\n",
              "      <td>FDE52</td>\n",
              "      <td>NaN</td>\n",
              "    </tr>\n",
              "    <tr>\n",
              "      <th>5022</th>\n",
              "      <td>FDQ60</td>\n",
              "      <td>NaN</td>\n",
              "    </tr>\n",
              "  </tbody>\n",
              "</table>\n",
              "</div>\n",
              "      <button class=\"colab-df-convert\" onclick=\"convertToInteractive('df-32e3f9e9-a064-46d7-bc1c-420f13af4f56')\"\n",
              "              title=\"Convert this dataframe to an interactive table.\"\n",
              "              style=\"display:none;\">\n",
              "        \n",
              "  <svg xmlns=\"http://www.w3.org/2000/svg\" height=\"24px\"viewBox=\"0 0 24 24\"\n",
              "       width=\"24px\">\n",
              "    <path d=\"M0 0h24v24H0V0z\" fill=\"none\"/>\n",
              "    <path d=\"M18.56 5.44l.94 2.06.94-2.06 2.06-.94-2.06-.94-.94-2.06-.94 2.06-2.06.94zm-11 1L8.5 8.5l.94-2.06 2.06-.94-2.06-.94L8.5 2.5l-.94 2.06-2.06.94zm10 10l.94 2.06.94-2.06 2.06-.94-2.06-.94-.94-2.06-.94 2.06-2.06.94z\"/><path d=\"M17.41 7.96l-1.37-1.37c-.4-.4-.92-.59-1.43-.59-.52 0-1.04.2-1.43.59L10.3 9.45l-7.72 7.72c-.78.78-.78 2.05 0 2.83L4 21.41c.39.39.9.59 1.41.59.51 0 1.02-.2 1.41-.59l7.78-7.78 2.81-2.81c.8-.78.8-2.07 0-2.86zM5.41 20L4 18.59l7.72-7.72 1.47 1.35L5.41 20z\"/>\n",
              "  </svg>\n",
              "      </button>\n",
              "      \n",
              "  <style>\n",
              "    .colab-df-container {\n",
              "      display:flex;\n",
              "      flex-wrap:wrap;\n",
              "      gap: 12px;\n",
              "    }\n",
              "\n",
              "    .colab-df-convert {\n",
              "      background-color: #E8F0FE;\n",
              "      border: none;\n",
              "      border-radius: 50%;\n",
              "      cursor: pointer;\n",
              "      display: none;\n",
              "      fill: #1967D2;\n",
              "      height: 32px;\n",
              "      padding: 0 0 0 0;\n",
              "      width: 32px;\n",
              "    }\n",
              "\n",
              "    .colab-df-convert:hover {\n",
              "      background-color: #E2EBFA;\n",
              "      box-shadow: 0px 1px 2px rgba(60, 64, 67, 0.3), 0px 1px 3px 1px rgba(60, 64, 67, 0.15);\n",
              "      fill: #174EA6;\n",
              "    }\n",
              "\n",
              "    [theme=dark] .colab-df-convert {\n",
              "      background-color: #3B4455;\n",
              "      fill: #D2E3FC;\n",
              "    }\n",
              "\n",
              "    [theme=dark] .colab-df-convert:hover {\n",
              "      background-color: #434B5C;\n",
              "      box-shadow: 0px 1px 3px 1px rgba(0, 0, 0, 0.15);\n",
              "      filter: drop-shadow(0px 1px 2px rgba(0, 0, 0, 0.3));\n",
              "      fill: #FFFFFF;\n",
              "    }\n",
              "  </style>\n",
              "\n",
              "      <script>\n",
              "        const buttonEl =\n",
              "          document.querySelector('#df-32e3f9e9-a064-46d7-bc1c-420f13af4f56 button.colab-df-convert');\n",
              "        buttonEl.style.display =\n",
              "          google.colab.kernel.accessAllowed ? 'block' : 'none';\n",
              "\n",
              "        async function convertToInteractive(key) {\n",
              "          const element = document.querySelector('#df-32e3f9e9-a064-46d7-bc1c-420f13af4f56');\n",
              "          const dataTable =\n",
              "            await google.colab.kernel.invokeFunction('convertToInteractive',\n",
              "                                                     [key], {});\n",
              "          if (!dataTable) return;\n",
              "\n",
              "          const docLinkHtml = 'Like what you see? Visit the ' +\n",
              "            '<a target=\"_blank\" href=https://colab.research.google.com/notebooks/data_table.ipynb>data table notebook</a>'\n",
              "            + ' to learn more about interactive tables.';\n",
              "          element.innerHTML = '';\n",
              "          dataTable['output_type'] = 'display_data';\n",
              "          await google.colab.output.renderOutput(dataTable, element);\n",
              "          const docLink = document.createElement('div');\n",
              "          docLink.innerHTML = docLinkHtml;\n",
              "          element.appendChild(docLink);\n",
              "        }\n",
              "      </script>\n",
              "    </div>\n",
              "  </div>\n",
              "  "
            ]
          },
          "metadata": {},
          "execution_count": 11
        }
      ]
    },
    {
      "cell_type": "markdown",
      "source": [
        "With no other clues to determine what these 4 values should be. I will ignore them for now because they comprise less than 0.05 % of the data (4 / 8523 * 100 = 0.000469).\n",
        "\n",
        "Since there are 4 items with no weight value, we should expect 1555 items that do have a weight value (1559 - 4 = 1555)."
      ],
      "metadata": {
        "id": "MipDCR3K9uf2"
      }
    },
    {
      "cell_type": "code",
      "source": [
        "df_sales.loc[ ~ pd.isna(df_sales[\"Item_Weight\"]) ,\"Item_Identifier\"].nunique()"
      ],
      "metadata": {
        "colab": {
          "base_uri": "https://localhost:8080/"
        },
        "id": "BOxXOOamOZCD",
        "outputId": "efe5434a-e9de-41db-fed2-699b0c47906a"
      },
      "execution_count": 12,
      "outputs": [
        {
          "output_type": "execute_result",
          "data": {
            "text/plain": [
              "1555"
            ]
          },
          "metadata": {},
          "execution_count": 12
        }
      ]
    },
    {
      "cell_type": "markdown",
      "source": [
        "## →→ Outlet Size"
      ],
      "metadata": {
        "id": "e4HlbJK91Z3T"
      }
    },
    {
      "cell_type": "markdown",
      "source": [
        "The process can be repeated for the Outlet_Identifier and Outlet_Size columns, following the same line of reasoning about uniqueness. (The Outlet_Establishment_Year can be left in this dataframe subset because it should be a constant for any given Outlet_Identifier. If it is not, then there is probably something further wrong with the data.)"
      ],
      "metadata": {
        "id": "JduP_nEsOa7V"
      }
    },
    {
      "cell_type": "code",
      "source": [
        "df_sales.loc[:,\"Outlet_Identifier\":\"Outlet_Type\"].drop_duplicates().sort_values([\"Outlet_Size\"])"
      ],
      "metadata": {
        "colab": {
          "base_uri": "https://localhost:8080/",
          "height": 363
        },
        "id": "yZM3P-h0RKuv",
        "outputId": "b8153120-c510-419a-ddd1-1d23f45c453d"
      },
      "execution_count": 13,
      "outputs": [
        {
          "output_type": "execute_result",
          "data": {
            "text/plain": [
              "   Outlet_Identifier  Outlet_Establishment_Year Outlet_Size  \\\n",
              "4             OUT013                       1987        High   \n",
              "0             OUT049                       1999      Medium   \n",
              "1             OUT018                       2009      Medium   \n",
              "7             OUT027                       1985      Medium   \n",
              "11            OUT046                       1997       Small   \n",
              "19            OUT035                       2004       Small   \n",
              "23            OUT019                       1985       Small   \n",
              "3             OUT010                       1998         NaN   \n",
              "8             OUT045                       2002         NaN   \n",
              "9             OUT017                       2007         NaN   \n",
              "\n",
              "   Outlet_Location_Type        Outlet_Type  \n",
              "4                Tier 3  Supermarket Type1  \n",
              "0                Tier 1  Supermarket Type1  \n",
              "1                Tier 3  Supermarket Type2  \n",
              "7                Tier 3  Supermarket Type3  \n",
              "11               Tier 1  Supermarket Type1  \n",
              "19               Tier 2  Supermarket Type1  \n",
              "23               Tier 1      Grocery Store  \n",
              "3                Tier 3      Grocery Store  \n",
              "8                Tier 2  Supermarket Type1  \n",
              "9                Tier 2  Supermarket Type1  "
            ],
            "text/html": [
              "\n",
              "  <div id=\"df-5c7ef944-4501-40d4-b448-10cdae245d6f\">\n",
              "    <div class=\"colab-df-container\">\n",
              "      <div>\n",
              "<style scoped>\n",
              "    .dataframe tbody tr th:only-of-type {\n",
              "        vertical-align: middle;\n",
              "    }\n",
              "\n",
              "    .dataframe tbody tr th {\n",
              "        vertical-align: top;\n",
              "    }\n",
              "\n",
              "    .dataframe thead th {\n",
              "        text-align: right;\n",
              "    }\n",
              "</style>\n",
              "<table border=\"1\" class=\"dataframe\">\n",
              "  <thead>\n",
              "    <tr style=\"text-align: right;\">\n",
              "      <th></th>\n",
              "      <th>Outlet_Identifier</th>\n",
              "      <th>Outlet_Establishment_Year</th>\n",
              "      <th>Outlet_Size</th>\n",
              "      <th>Outlet_Location_Type</th>\n",
              "      <th>Outlet_Type</th>\n",
              "    </tr>\n",
              "  </thead>\n",
              "  <tbody>\n",
              "    <tr>\n",
              "      <th>4</th>\n",
              "      <td>OUT013</td>\n",
              "      <td>1987</td>\n",
              "      <td>High</td>\n",
              "      <td>Tier 3</td>\n",
              "      <td>Supermarket Type1</td>\n",
              "    </tr>\n",
              "    <tr>\n",
              "      <th>0</th>\n",
              "      <td>OUT049</td>\n",
              "      <td>1999</td>\n",
              "      <td>Medium</td>\n",
              "      <td>Tier 1</td>\n",
              "      <td>Supermarket Type1</td>\n",
              "    </tr>\n",
              "    <tr>\n",
              "      <th>1</th>\n",
              "      <td>OUT018</td>\n",
              "      <td>2009</td>\n",
              "      <td>Medium</td>\n",
              "      <td>Tier 3</td>\n",
              "      <td>Supermarket Type2</td>\n",
              "    </tr>\n",
              "    <tr>\n",
              "      <th>7</th>\n",
              "      <td>OUT027</td>\n",
              "      <td>1985</td>\n",
              "      <td>Medium</td>\n",
              "      <td>Tier 3</td>\n",
              "      <td>Supermarket Type3</td>\n",
              "    </tr>\n",
              "    <tr>\n",
              "      <th>11</th>\n",
              "      <td>OUT046</td>\n",
              "      <td>1997</td>\n",
              "      <td>Small</td>\n",
              "      <td>Tier 1</td>\n",
              "      <td>Supermarket Type1</td>\n",
              "    </tr>\n",
              "    <tr>\n",
              "      <th>19</th>\n",
              "      <td>OUT035</td>\n",
              "      <td>2004</td>\n",
              "      <td>Small</td>\n",
              "      <td>Tier 2</td>\n",
              "      <td>Supermarket Type1</td>\n",
              "    </tr>\n",
              "    <tr>\n",
              "      <th>23</th>\n",
              "      <td>OUT019</td>\n",
              "      <td>1985</td>\n",
              "      <td>Small</td>\n",
              "      <td>Tier 1</td>\n",
              "      <td>Grocery Store</td>\n",
              "    </tr>\n",
              "    <tr>\n",
              "      <th>3</th>\n",
              "      <td>OUT010</td>\n",
              "      <td>1998</td>\n",
              "      <td>NaN</td>\n",
              "      <td>Tier 3</td>\n",
              "      <td>Grocery Store</td>\n",
              "    </tr>\n",
              "    <tr>\n",
              "      <th>8</th>\n",
              "      <td>OUT045</td>\n",
              "      <td>2002</td>\n",
              "      <td>NaN</td>\n",
              "      <td>Tier 2</td>\n",
              "      <td>Supermarket Type1</td>\n",
              "    </tr>\n",
              "    <tr>\n",
              "      <th>9</th>\n",
              "      <td>OUT017</td>\n",
              "      <td>2007</td>\n",
              "      <td>NaN</td>\n",
              "      <td>Tier 2</td>\n",
              "      <td>Supermarket Type1</td>\n",
              "    </tr>\n",
              "  </tbody>\n",
              "</table>\n",
              "</div>\n",
              "      <button class=\"colab-df-convert\" onclick=\"convertToInteractive('df-5c7ef944-4501-40d4-b448-10cdae245d6f')\"\n",
              "              title=\"Convert this dataframe to an interactive table.\"\n",
              "              style=\"display:none;\">\n",
              "        \n",
              "  <svg xmlns=\"http://www.w3.org/2000/svg\" height=\"24px\"viewBox=\"0 0 24 24\"\n",
              "       width=\"24px\">\n",
              "    <path d=\"M0 0h24v24H0V0z\" fill=\"none\"/>\n",
              "    <path d=\"M18.56 5.44l.94 2.06.94-2.06 2.06-.94-2.06-.94-.94-2.06-.94 2.06-2.06.94zm-11 1L8.5 8.5l.94-2.06 2.06-.94-2.06-.94L8.5 2.5l-.94 2.06-2.06.94zm10 10l.94 2.06.94-2.06 2.06-.94-2.06-.94-.94-2.06-.94 2.06-2.06.94z\"/><path d=\"M17.41 7.96l-1.37-1.37c-.4-.4-.92-.59-1.43-.59-.52 0-1.04.2-1.43.59L10.3 9.45l-7.72 7.72c-.78.78-.78 2.05 0 2.83L4 21.41c.39.39.9.59 1.41.59.51 0 1.02-.2 1.41-.59l7.78-7.78 2.81-2.81c.8-.78.8-2.07 0-2.86zM5.41 20L4 18.59l7.72-7.72 1.47 1.35L5.41 20z\"/>\n",
              "  </svg>\n",
              "      </button>\n",
              "      \n",
              "  <style>\n",
              "    .colab-df-container {\n",
              "      display:flex;\n",
              "      flex-wrap:wrap;\n",
              "      gap: 12px;\n",
              "    }\n",
              "\n",
              "    .colab-df-convert {\n",
              "      background-color: #E8F0FE;\n",
              "      border: none;\n",
              "      border-radius: 50%;\n",
              "      cursor: pointer;\n",
              "      display: none;\n",
              "      fill: #1967D2;\n",
              "      height: 32px;\n",
              "      padding: 0 0 0 0;\n",
              "      width: 32px;\n",
              "    }\n",
              "\n",
              "    .colab-df-convert:hover {\n",
              "      background-color: #E2EBFA;\n",
              "      box-shadow: 0px 1px 2px rgba(60, 64, 67, 0.3), 0px 1px 3px 1px rgba(60, 64, 67, 0.15);\n",
              "      fill: #174EA6;\n",
              "    }\n",
              "\n",
              "    [theme=dark] .colab-df-convert {\n",
              "      background-color: #3B4455;\n",
              "      fill: #D2E3FC;\n",
              "    }\n",
              "\n",
              "    [theme=dark] .colab-df-convert:hover {\n",
              "      background-color: #434B5C;\n",
              "      box-shadow: 0px 1px 3px 1px rgba(0, 0, 0, 0.15);\n",
              "      filter: drop-shadow(0px 1px 2px rgba(0, 0, 0, 0.3));\n",
              "      fill: #FFFFFF;\n",
              "    }\n",
              "  </style>\n",
              "\n",
              "      <script>\n",
              "        const buttonEl =\n",
              "          document.querySelector('#df-5c7ef944-4501-40d4-b448-10cdae245d6f button.colab-df-convert');\n",
              "        buttonEl.style.display =\n",
              "          google.colab.kernel.accessAllowed ? 'block' : 'none';\n",
              "\n",
              "        async function convertToInteractive(key) {\n",
              "          const element = document.querySelector('#df-5c7ef944-4501-40d4-b448-10cdae245d6f');\n",
              "          const dataTable =\n",
              "            await google.colab.kernel.invokeFunction('convertToInteractive',\n",
              "                                                     [key], {});\n",
              "          if (!dataTable) return;\n",
              "\n",
              "          const docLinkHtml = 'Like what you see? Visit the ' +\n",
              "            '<a target=\"_blank\" href=https://colab.research.google.com/notebooks/data_table.ipynb>data table notebook</a>'\n",
              "            + ' to learn more about interactive tables.';\n",
              "          element.innerHTML = '';\n",
              "          dataTable['output_type'] = 'display_data';\n",
              "          await google.colab.output.renderOutput(dataTable, element);\n",
              "          const docLink = document.createElement('div');\n",
              "          docLink.innerHTML = docLinkHtml;\n",
              "          element.appendChild(docLink);\n",
              "        }\n",
              "      </script>\n",
              "    </div>\n",
              "  </div>\n",
              "  "
            ]
          },
          "metadata": {},
          "execution_count": 13
        }
      ]
    },
    {
      "cell_type": "markdown",
      "source": [
        "There are 3 outlets with a missing Outlet_Size."
      ],
      "metadata": {
        "id": "8_uEpllpXcQJ"
      }
    },
    {
      "cell_type": "markdown",
      "source": [
        "There is no clear relationship between Outlet_Size and any of the other properties. Any analysis that depends upon the size of the outlet must exclude these three outlets without a reasonable estimate of the size.\n",
        "\n",
        "It is tempting to assume they are medium sized as an average over the size range. However, that implicitly assumes any affects size has is monotonic or porportional across the size range and errors might \"average out\" between being wrong about not being small or high outlet sizes. The problem is that medium size might really have an extremum effect (the most or the least effect). This could greatly skew the analysis if medium is the wrong choice.\n",
        "\n",
        "But fortunately, we can create some new information to help. All the outlets sell items. And presumably larger outlets are capable of selling a wider variety of items. So I will determine how many different items each outlet sells."
      ],
      "metadata": {
        "id": "DA8bt2cagU2p"
      }
    },
    {
      "cell_type": "code",
      "source": [
        "df_sales[\"Outlet_Total_Items\"] = np.nan\n",
        "df_sales[\"Outlet_Total_Sales\"] = np.nan\n",
        "\n",
        "for outlet_code in df_sales.loc[:,\"Outlet_Identifier\"].drop_duplicates().sort_values():\n",
        "    filter_outlet = ( df_sales[\"Outlet_Identifier\"] == outlet_code )\n",
        "    total_items = df_sales.loc[ filter_outlet, \"Outlet_Identifier\"].count()\n",
        "    total_sales = df_sales.loc[ filter_outlet, \"Item_Outlet_Sales\"].sum()\n",
        "    df_sales.update( df_sales.loc[ filter_outlet , \"Outlet_Total_Items\"].fillna(value = total_items, inplace=False), overwrite=False)\n",
        "    df_sales.update( df_sales.loc[ filter_outlet , \"Outlet_Total_Sales\"].fillna(value = total_sales, inplace=False), overwrite=False)\n",
        "\n",
        "df_sales = df_sales.convert_dtypes() # The Outle_Total_Items wants to be a float when calculated. I'm forcing it to be an integer because it is a counting number.\n",
        "df_sales.loc[:,\"Outlet_Identifier\":\"Outlet_Total_Sales\"]"
      ],
      "metadata": {
        "colab": {
          "base_uri": "https://localhost:8080/",
          "height": 423
        },
        "id": "9tRwAHjXTmhI",
        "outputId": "2ba9f91b-a8f1-4146-a7b2-3b19dbd098c4"
      },
      "execution_count": 14,
      "outputs": [
        {
          "output_type": "execute_result",
          "data": {
            "text/plain": [
              "     Outlet_Identifier  Outlet_Establishment_Year Outlet_Size  \\\n",
              "0               OUT049                       1999      Medium   \n",
              "1               OUT018                       2009      Medium   \n",
              "2               OUT049                       1999      Medium   \n",
              "3               OUT010                       1998        <NA>   \n",
              "4               OUT013                       1987        High   \n",
              "...                ...                        ...         ...   \n",
              "8518            OUT013                       1987        High   \n",
              "8519            OUT045                       2002        <NA>   \n",
              "8520            OUT035                       2004       Small   \n",
              "8521            OUT018                       2009      Medium   \n",
              "8522            OUT046                       1997       Small   \n",
              "\n",
              "     Outlet_Location_Type        Outlet_Type  Item_Outlet_Sales  \\\n",
              "0                  Tier 1  Supermarket Type1           3735.138   \n",
              "1                  Tier 3  Supermarket Type2           443.4228   \n",
              "2                  Tier 1  Supermarket Type1            2097.27   \n",
              "3                  Tier 3      Grocery Store             732.38   \n",
              "4                  Tier 3  Supermarket Type1           994.7052   \n",
              "...                   ...                ...                ...   \n",
              "8518               Tier 3  Supermarket Type1          2778.3834   \n",
              "8519               Tier 2  Supermarket Type1            549.285   \n",
              "8520               Tier 2  Supermarket Type1          1193.1136   \n",
              "8521               Tier 3  Supermarket Type2          1845.5976   \n",
              "8522               Tier 1  Supermarket Type1             765.67   \n",
              "\n",
              "      Outlet_Total_Items  Outlet_Total_Sales  \n",
              "0                    930        2183969.8102  \n",
              "1                    928          1851822.83  \n",
              "2                    930        2183969.8102  \n",
              "3                    555         188340.1724  \n",
              "4                    932        2142663.5782  \n",
              "...                  ...                 ...  \n",
              "8518                 932        2142663.5782  \n",
              "8519                 929         2036725.477  \n",
              "8520                 930        2268122.9354  \n",
              "8521                 928          1851822.83  \n",
              "8522                 930        2118395.1682  \n",
              "\n",
              "[8523 rows x 8 columns]"
            ],
            "text/html": [
              "\n",
              "  <div id=\"df-e3427627-35c7-4d65-89f3-a3e894ad8b48\">\n",
              "    <div class=\"colab-df-container\">\n",
              "      <div>\n",
              "<style scoped>\n",
              "    .dataframe tbody tr th:only-of-type {\n",
              "        vertical-align: middle;\n",
              "    }\n",
              "\n",
              "    .dataframe tbody tr th {\n",
              "        vertical-align: top;\n",
              "    }\n",
              "\n",
              "    .dataframe thead th {\n",
              "        text-align: right;\n",
              "    }\n",
              "</style>\n",
              "<table border=\"1\" class=\"dataframe\">\n",
              "  <thead>\n",
              "    <tr style=\"text-align: right;\">\n",
              "      <th></th>\n",
              "      <th>Outlet_Identifier</th>\n",
              "      <th>Outlet_Establishment_Year</th>\n",
              "      <th>Outlet_Size</th>\n",
              "      <th>Outlet_Location_Type</th>\n",
              "      <th>Outlet_Type</th>\n",
              "      <th>Item_Outlet_Sales</th>\n",
              "      <th>Outlet_Total_Items</th>\n",
              "      <th>Outlet_Total_Sales</th>\n",
              "    </tr>\n",
              "  </thead>\n",
              "  <tbody>\n",
              "    <tr>\n",
              "      <th>0</th>\n",
              "      <td>OUT049</td>\n",
              "      <td>1999</td>\n",
              "      <td>Medium</td>\n",
              "      <td>Tier 1</td>\n",
              "      <td>Supermarket Type1</td>\n",
              "      <td>3735.138</td>\n",
              "      <td>930</td>\n",
              "      <td>2183969.8102</td>\n",
              "    </tr>\n",
              "    <tr>\n",
              "      <th>1</th>\n",
              "      <td>OUT018</td>\n",
              "      <td>2009</td>\n",
              "      <td>Medium</td>\n",
              "      <td>Tier 3</td>\n",
              "      <td>Supermarket Type2</td>\n",
              "      <td>443.4228</td>\n",
              "      <td>928</td>\n",
              "      <td>1851822.83</td>\n",
              "    </tr>\n",
              "    <tr>\n",
              "      <th>2</th>\n",
              "      <td>OUT049</td>\n",
              "      <td>1999</td>\n",
              "      <td>Medium</td>\n",
              "      <td>Tier 1</td>\n",
              "      <td>Supermarket Type1</td>\n",
              "      <td>2097.27</td>\n",
              "      <td>930</td>\n",
              "      <td>2183969.8102</td>\n",
              "    </tr>\n",
              "    <tr>\n",
              "      <th>3</th>\n",
              "      <td>OUT010</td>\n",
              "      <td>1998</td>\n",
              "      <td>&lt;NA&gt;</td>\n",
              "      <td>Tier 3</td>\n",
              "      <td>Grocery Store</td>\n",
              "      <td>732.38</td>\n",
              "      <td>555</td>\n",
              "      <td>188340.1724</td>\n",
              "    </tr>\n",
              "    <tr>\n",
              "      <th>4</th>\n",
              "      <td>OUT013</td>\n",
              "      <td>1987</td>\n",
              "      <td>High</td>\n",
              "      <td>Tier 3</td>\n",
              "      <td>Supermarket Type1</td>\n",
              "      <td>994.7052</td>\n",
              "      <td>932</td>\n",
              "      <td>2142663.5782</td>\n",
              "    </tr>\n",
              "    <tr>\n",
              "      <th>...</th>\n",
              "      <td>...</td>\n",
              "      <td>...</td>\n",
              "      <td>...</td>\n",
              "      <td>...</td>\n",
              "      <td>...</td>\n",
              "      <td>...</td>\n",
              "      <td>...</td>\n",
              "      <td>...</td>\n",
              "    </tr>\n",
              "    <tr>\n",
              "      <th>8518</th>\n",
              "      <td>OUT013</td>\n",
              "      <td>1987</td>\n",
              "      <td>High</td>\n",
              "      <td>Tier 3</td>\n",
              "      <td>Supermarket Type1</td>\n",
              "      <td>2778.3834</td>\n",
              "      <td>932</td>\n",
              "      <td>2142663.5782</td>\n",
              "    </tr>\n",
              "    <tr>\n",
              "      <th>8519</th>\n",
              "      <td>OUT045</td>\n",
              "      <td>2002</td>\n",
              "      <td>&lt;NA&gt;</td>\n",
              "      <td>Tier 2</td>\n",
              "      <td>Supermarket Type1</td>\n",
              "      <td>549.285</td>\n",
              "      <td>929</td>\n",
              "      <td>2036725.477</td>\n",
              "    </tr>\n",
              "    <tr>\n",
              "      <th>8520</th>\n",
              "      <td>OUT035</td>\n",
              "      <td>2004</td>\n",
              "      <td>Small</td>\n",
              "      <td>Tier 2</td>\n",
              "      <td>Supermarket Type1</td>\n",
              "      <td>1193.1136</td>\n",
              "      <td>930</td>\n",
              "      <td>2268122.9354</td>\n",
              "    </tr>\n",
              "    <tr>\n",
              "      <th>8521</th>\n",
              "      <td>OUT018</td>\n",
              "      <td>2009</td>\n",
              "      <td>Medium</td>\n",
              "      <td>Tier 3</td>\n",
              "      <td>Supermarket Type2</td>\n",
              "      <td>1845.5976</td>\n",
              "      <td>928</td>\n",
              "      <td>1851822.83</td>\n",
              "    </tr>\n",
              "    <tr>\n",
              "      <th>8522</th>\n",
              "      <td>OUT046</td>\n",
              "      <td>1997</td>\n",
              "      <td>Small</td>\n",
              "      <td>Tier 1</td>\n",
              "      <td>Supermarket Type1</td>\n",
              "      <td>765.67</td>\n",
              "      <td>930</td>\n",
              "      <td>2118395.1682</td>\n",
              "    </tr>\n",
              "  </tbody>\n",
              "</table>\n",
              "<p>8523 rows × 8 columns</p>\n",
              "</div>\n",
              "      <button class=\"colab-df-convert\" onclick=\"convertToInteractive('df-e3427627-35c7-4d65-89f3-a3e894ad8b48')\"\n",
              "              title=\"Convert this dataframe to an interactive table.\"\n",
              "              style=\"display:none;\">\n",
              "        \n",
              "  <svg xmlns=\"http://www.w3.org/2000/svg\" height=\"24px\"viewBox=\"0 0 24 24\"\n",
              "       width=\"24px\">\n",
              "    <path d=\"M0 0h24v24H0V0z\" fill=\"none\"/>\n",
              "    <path d=\"M18.56 5.44l.94 2.06.94-2.06 2.06-.94-2.06-.94-.94-2.06-.94 2.06-2.06.94zm-11 1L8.5 8.5l.94-2.06 2.06-.94-2.06-.94L8.5 2.5l-.94 2.06-2.06.94zm10 10l.94 2.06.94-2.06 2.06-.94-2.06-.94-.94-2.06-.94 2.06-2.06.94z\"/><path d=\"M17.41 7.96l-1.37-1.37c-.4-.4-.92-.59-1.43-.59-.52 0-1.04.2-1.43.59L10.3 9.45l-7.72 7.72c-.78.78-.78 2.05 0 2.83L4 21.41c.39.39.9.59 1.41.59.51 0 1.02-.2 1.41-.59l7.78-7.78 2.81-2.81c.8-.78.8-2.07 0-2.86zM5.41 20L4 18.59l7.72-7.72 1.47 1.35L5.41 20z\"/>\n",
              "  </svg>\n",
              "      </button>\n",
              "      \n",
              "  <style>\n",
              "    .colab-df-container {\n",
              "      display:flex;\n",
              "      flex-wrap:wrap;\n",
              "      gap: 12px;\n",
              "    }\n",
              "\n",
              "    .colab-df-convert {\n",
              "      background-color: #E8F0FE;\n",
              "      border: none;\n",
              "      border-radius: 50%;\n",
              "      cursor: pointer;\n",
              "      display: none;\n",
              "      fill: #1967D2;\n",
              "      height: 32px;\n",
              "      padding: 0 0 0 0;\n",
              "      width: 32px;\n",
              "    }\n",
              "\n",
              "    .colab-df-convert:hover {\n",
              "      background-color: #E2EBFA;\n",
              "      box-shadow: 0px 1px 2px rgba(60, 64, 67, 0.3), 0px 1px 3px 1px rgba(60, 64, 67, 0.15);\n",
              "      fill: #174EA6;\n",
              "    }\n",
              "\n",
              "    [theme=dark] .colab-df-convert {\n",
              "      background-color: #3B4455;\n",
              "      fill: #D2E3FC;\n",
              "    }\n",
              "\n",
              "    [theme=dark] .colab-df-convert:hover {\n",
              "      background-color: #434B5C;\n",
              "      box-shadow: 0px 1px 3px 1px rgba(0, 0, 0, 0.15);\n",
              "      filter: drop-shadow(0px 1px 2px rgba(0, 0, 0, 0.3));\n",
              "      fill: #FFFFFF;\n",
              "    }\n",
              "  </style>\n",
              "\n",
              "      <script>\n",
              "        const buttonEl =\n",
              "          document.querySelector('#df-e3427627-35c7-4d65-89f3-a3e894ad8b48 button.colab-df-convert');\n",
              "        buttonEl.style.display =\n",
              "          google.colab.kernel.accessAllowed ? 'block' : 'none';\n",
              "\n",
              "        async function convertToInteractive(key) {\n",
              "          const element = document.querySelector('#df-e3427627-35c7-4d65-89f3-a3e894ad8b48');\n",
              "          const dataTable =\n",
              "            await google.colab.kernel.invokeFunction('convertToInteractive',\n",
              "                                                     [key], {});\n",
              "          if (!dataTable) return;\n",
              "\n",
              "          const docLinkHtml = 'Like what you see? Visit the ' +\n",
              "            '<a target=\"_blank\" href=https://colab.research.google.com/notebooks/data_table.ipynb>data table notebook</a>'\n",
              "            + ' to learn more about interactive tables.';\n",
              "          element.innerHTML = '';\n",
              "          dataTable['output_type'] = 'display_data';\n",
              "          await google.colab.output.renderOutput(dataTable, element);\n",
              "          const docLink = document.createElement('div');\n",
              "          docLink.innerHTML = docLinkHtml;\n",
              "          element.appendChild(docLink);\n",
              "        }\n",
              "      </script>\n",
              "    </div>\n",
              "  </div>\n",
              "  "
            ]
          },
          "metadata": {},
          "execution_count": 14
        }
      ]
    },
    {
      "cell_type": "markdown",
      "source": [
        "Looking at the unique information for each outlet.."
      ],
      "metadata": {
        "id": "4GdBs-vDbYWH"
      }
    },
    {
      "cell_type": "code",
      "source": [
        "df_sales.loc[:,[\"Outlet_Identifier\",\"Outlet_Establishment_Year\",\"Outlet_Size\",\"Outlet_Location_Type\",\"Outlet_Type\",\"Outlet_Total_Items\",\"Outlet_Total_Sales\"]].drop_duplicates().sort_values([\"Outlet_Total_Sales\"])"
      ],
      "metadata": {
        "colab": {
          "base_uri": "https://localhost:8080/",
          "height": 363
        },
        "id": "Vz_iFiw_areF",
        "outputId": "55c87750-0874-43db-c1ac-2c26b4a5b3f3"
      },
      "execution_count": 16,
      "outputs": [
        {
          "output_type": "execute_result",
          "data": {
            "text/plain": [
              "   Outlet_Identifier  Outlet_Establishment_Year Outlet_Size  \\\n",
              "23            OUT019                       1985       Small   \n",
              "3             OUT010                       1998        <NA>   \n",
              "1             OUT018                       2009      Medium   \n",
              "8             OUT045                       2002        <NA>   \n",
              "11            OUT046                       1997       Small   \n",
              "4             OUT013                       1987        High   \n",
              "9             OUT017                       2007        <NA>   \n",
              "0             OUT049                       1999      Medium   \n",
              "19            OUT035                       2004       Small   \n",
              "7             OUT027                       1985      Medium   \n",
              "\n",
              "   Outlet_Location_Type        Outlet_Type  Outlet_Total_Items  \\\n",
              "23               Tier 1      Grocery Store                 528   \n",
              "3                Tier 3      Grocery Store                 555   \n",
              "1                Tier 3  Supermarket Type2                 928   \n",
              "8                Tier 2  Supermarket Type1                 929   \n",
              "11               Tier 1  Supermarket Type1                 930   \n",
              "4                Tier 3  Supermarket Type1                 932   \n",
              "9                Tier 2  Supermarket Type1                 926   \n",
              "0                Tier 1  Supermarket Type1                 930   \n",
              "19               Tier 2  Supermarket Type1                 930   \n",
              "7                Tier 3  Supermarket Type3                 935   \n",
              "\n",
              "    Outlet_Total_Sales  \n",
              "23         179694.0936  \n",
              "3          188340.1724  \n",
              "1           1851822.83  \n",
              "8          2036725.477  \n",
              "11        2118395.1682  \n",
              "4         2142663.5782  \n",
              "9          2167465.294  \n",
              "0         2183969.8102  \n",
              "19        2268122.9354  \n",
              "7         3453926.0514  "
            ],
            "text/html": [
              "\n",
              "  <div id=\"df-9134e5fc-7b3a-44fe-8522-42d04ae61626\">\n",
              "    <div class=\"colab-df-container\">\n",
              "      <div>\n",
              "<style scoped>\n",
              "    .dataframe tbody tr th:only-of-type {\n",
              "        vertical-align: middle;\n",
              "    }\n",
              "\n",
              "    .dataframe tbody tr th {\n",
              "        vertical-align: top;\n",
              "    }\n",
              "\n",
              "    .dataframe thead th {\n",
              "        text-align: right;\n",
              "    }\n",
              "</style>\n",
              "<table border=\"1\" class=\"dataframe\">\n",
              "  <thead>\n",
              "    <tr style=\"text-align: right;\">\n",
              "      <th></th>\n",
              "      <th>Outlet_Identifier</th>\n",
              "      <th>Outlet_Establishment_Year</th>\n",
              "      <th>Outlet_Size</th>\n",
              "      <th>Outlet_Location_Type</th>\n",
              "      <th>Outlet_Type</th>\n",
              "      <th>Outlet_Total_Items</th>\n",
              "      <th>Outlet_Total_Sales</th>\n",
              "    </tr>\n",
              "  </thead>\n",
              "  <tbody>\n",
              "    <tr>\n",
              "      <th>23</th>\n",
              "      <td>OUT019</td>\n",
              "      <td>1985</td>\n",
              "      <td>Small</td>\n",
              "      <td>Tier 1</td>\n",
              "      <td>Grocery Store</td>\n",
              "      <td>528</td>\n",
              "      <td>179694.0936</td>\n",
              "    </tr>\n",
              "    <tr>\n",
              "      <th>3</th>\n",
              "      <td>OUT010</td>\n",
              "      <td>1998</td>\n",
              "      <td>&lt;NA&gt;</td>\n",
              "      <td>Tier 3</td>\n",
              "      <td>Grocery Store</td>\n",
              "      <td>555</td>\n",
              "      <td>188340.1724</td>\n",
              "    </tr>\n",
              "    <tr>\n",
              "      <th>1</th>\n",
              "      <td>OUT018</td>\n",
              "      <td>2009</td>\n",
              "      <td>Medium</td>\n",
              "      <td>Tier 3</td>\n",
              "      <td>Supermarket Type2</td>\n",
              "      <td>928</td>\n",
              "      <td>1851822.83</td>\n",
              "    </tr>\n",
              "    <tr>\n",
              "      <th>8</th>\n",
              "      <td>OUT045</td>\n",
              "      <td>2002</td>\n",
              "      <td>&lt;NA&gt;</td>\n",
              "      <td>Tier 2</td>\n",
              "      <td>Supermarket Type1</td>\n",
              "      <td>929</td>\n",
              "      <td>2036725.477</td>\n",
              "    </tr>\n",
              "    <tr>\n",
              "      <th>11</th>\n",
              "      <td>OUT046</td>\n",
              "      <td>1997</td>\n",
              "      <td>Small</td>\n",
              "      <td>Tier 1</td>\n",
              "      <td>Supermarket Type1</td>\n",
              "      <td>930</td>\n",
              "      <td>2118395.1682</td>\n",
              "    </tr>\n",
              "    <tr>\n",
              "      <th>4</th>\n",
              "      <td>OUT013</td>\n",
              "      <td>1987</td>\n",
              "      <td>High</td>\n",
              "      <td>Tier 3</td>\n",
              "      <td>Supermarket Type1</td>\n",
              "      <td>932</td>\n",
              "      <td>2142663.5782</td>\n",
              "    </tr>\n",
              "    <tr>\n",
              "      <th>9</th>\n",
              "      <td>OUT017</td>\n",
              "      <td>2007</td>\n",
              "      <td>&lt;NA&gt;</td>\n",
              "      <td>Tier 2</td>\n",
              "      <td>Supermarket Type1</td>\n",
              "      <td>926</td>\n",
              "      <td>2167465.294</td>\n",
              "    </tr>\n",
              "    <tr>\n",
              "      <th>0</th>\n",
              "      <td>OUT049</td>\n",
              "      <td>1999</td>\n",
              "      <td>Medium</td>\n",
              "      <td>Tier 1</td>\n",
              "      <td>Supermarket Type1</td>\n",
              "      <td>930</td>\n",
              "      <td>2183969.8102</td>\n",
              "    </tr>\n",
              "    <tr>\n",
              "      <th>19</th>\n",
              "      <td>OUT035</td>\n",
              "      <td>2004</td>\n",
              "      <td>Small</td>\n",
              "      <td>Tier 2</td>\n",
              "      <td>Supermarket Type1</td>\n",
              "      <td>930</td>\n",
              "      <td>2268122.9354</td>\n",
              "    </tr>\n",
              "    <tr>\n",
              "      <th>7</th>\n",
              "      <td>OUT027</td>\n",
              "      <td>1985</td>\n",
              "      <td>Medium</td>\n",
              "      <td>Tier 3</td>\n",
              "      <td>Supermarket Type3</td>\n",
              "      <td>935</td>\n",
              "      <td>3453926.0514</td>\n",
              "    </tr>\n",
              "  </tbody>\n",
              "</table>\n",
              "</div>\n",
              "      <button class=\"colab-df-convert\" onclick=\"convertToInteractive('df-9134e5fc-7b3a-44fe-8522-42d04ae61626')\"\n",
              "              title=\"Convert this dataframe to an interactive table.\"\n",
              "              style=\"display:none;\">\n",
              "        \n",
              "  <svg xmlns=\"http://www.w3.org/2000/svg\" height=\"24px\"viewBox=\"0 0 24 24\"\n",
              "       width=\"24px\">\n",
              "    <path d=\"M0 0h24v24H0V0z\" fill=\"none\"/>\n",
              "    <path d=\"M18.56 5.44l.94 2.06.94-2.06 2.06-.94-2.06-.94-.94-2.06-.94 2.06-2.06.94zm-11 1L8.5 8.5l.94-2.06 2.06-.94-2.06-.94L8.5 2.5l-.94 2.06-2.06.94zm10 10l.94 2.06.94-2.06 2.06-.94-2.06-.94-.94-2.06-.94 2.06-2.06.94z\"/><path d=\"M17.41 7.96l-1.37-1.37c-.4-.4-.92-.59-1.43-.59-.52 0-1.04.2-1.43.59L10.3 9.45l-7.72 7.72c-.78.78-.78 2.05 0 2.83L4 21.41c.39.39.9.59 1.41.59.51 0 1.02-.2 1.41-.59l7.78-7.78 2.81-2.81c.8-.78.8-2.07 0-2.86zM5.41 20L4 18.59l7.72-7.72 1.47 1.35L5.41 20z\"/>\n",
              "  </svg>\n",
              "      </button>\n",
              "      \n",
              "  <style>\n",
              "    .colab-df-container {\n",
              "      display:flex;\n",
              "      flex-wrap:wrap;\n",
              "      gap: 12px;\n",
              "    }\n",
              "\n",
              "    .colab-df-convert {\n",
              "      background-color: #E8F0FE;\n",
              "      border: none;\n",
              "      border-radius: 50%;\n",
              "      cursor: pointer;\n",
              "      display: none;\n",
              "      fill: #1967D2;\n",
              "      height: 32px;\n",
              "      padding: 0 0 0 0;\n",
              "      width: 32px;\n",
              "    }\n",
              "\n",
              "    .colab-df-convert:hover {\n",
              "      background-color: #E2EBFA;\n",
              "      box-shadow: 0px 1px 2px rgba(60, 64, 67, 0.3), 0px 1px 3px 1px rgba(60, 64, 67, 0.15);\n",
              "      fill: #174EA6;\n",
              "    }\n",
              "\n",
              "    [theme=dark] .colab-df-convert {\n",
              "      background-color: #3B4455;\n",
              "      fill: #D2E3FC;\n",
              "    }\n",
              "\n",
              "    [theme=dark] .colab-df-convert:hover {\n",
              "      background-color: #434B5C;\n",
              "      box-shadow: 0px 1px 3px 1px rgba(0, 0, 0, 0.15);\n",
              "      filter: drop-shadow(0px 1px 2px rgba(0, 0, 0, 0.3));\n",
              "      fill: #FFFFFF;\n",
              "    }\n",
              "  </style>\n",
              "\n",
              "      <script>\n",
              "        const buttonEl =\n",
              "          document.querySelector('#df-9134e5fc-7b3a-44fe-8522-42d04ae61626 button.colab-df-convert');\n",
              "        buttonEl.style.display =\n",
              "          google.colab.kernel.accessAllowed ? 'block' : 'none';\n",
              "\n",
              "        async function convertToInteractive(key) {\n",
              "          const element = document.querySelector('#df-9134e5fc-7b3a-44fe-8522-42d04ae61626');\n",
              "          const dataTable =\n",
              "            await google.colab.kernel.invokeFunction('convertToInteractive',\n",
              "                                                     [key], {});\n",
              "          if (!dataTable) return;\n",
              "\n",
              "          const docLinkHtml = 'Like what you see? Visit the ' +\n",
              "            '<a target=\"_blank\" href=https://colab.research.google.com/notebooks/data_table.ipynb>data table notebook</a>'\n",
              "            + ' to learn more about interactive tables.';\n",
              "          element.innerHTML = '';\n",
              "          dataTable['output_type'] = 'display_data';\n",
              "          await google.colab.output.renderOutput(dataTable, element);\n",
              "          const docLink = document.createElement('div');\n",
              "          docLink.innerHTML = docLinkHtml;\n",
              "          element.appendChild(docLink);\n",
              "        }\n",
              "      </script>\n",
              "    </div>\n",
              "  </div>\n",
              "  "
            ]
          },
          "metadata": {},
          "execution_count": 16
        }
      ]
    },
    {
      "cell_type": "markdown",
      "source": [
        "There are similarities between `OUT019` and `OUT010`.\n",
        "* both are grocery stores (no other outlets are)\n",
        "* sell a similar number of items (just over half of each of the other outlets)\n",
        "* have similar sales (close to 180,000. only 1 other outlet is close. all others are approximately 10% greater or more.)\n",
        "\n",
        "It seems reasonable to say that `OUT010` is a small size."
      ],
      "metadata": {
        "id": "9r8QP9d1VCQ3"
      }
    },
    {
      "cell_type": "code",
      "source": [
        "df_sales.update(df_sales.loc[ df_sales[\"Outlet_Identifier\"]==\"OUT010\" , \"Outlet_Size\" ].fillna(value =\"Small\"))"
      ],
      "metadata": {
        "id": "tysjZHwd6B25"
      },
      "execution_count": 18,
      "outputs": []
    },
    {
      "cell_type": "markdown",
      "source": [
        "Now that the small outlets have been delt with, I'll look at the remaining outlets."
      ],
      "metadata": {
        "id": "O1c3CCBx99Gg"
      }
    },
    {
      "cell_type": "code",
      "source": [
        "df_sales.loc[ df_sales[\"Outlet_Size\"]!=\"Small\", [\"Outlet_Identifier\",\"Outlet_Establishment_Year\",\"Outlet_Size\",\"Outlet_Location_Type\",\"Outlet_Type\",\"Outlet_Total_Items\",\"Outlet_Total_Sales\"] ].drop_duplicates().sort_values([\"Outlet_Total_Sales\",\"Outlet_Location_Type\"])"
      ],
      "metadata": {
        "colab": {
          "base_uri": "https://localhost:8080/",
          "height": 237
        },
        "id": "jth5kxm494Sb",
        "outputId": "f4425693-18c7-462a-f3ec-a2b1d703ac22"
      },
      "execution_count": 20,
      "outputs": [
        {
          "output_type": "execute_result",
          "data": {
            "text/plain": [
              "  Outlet_Identifier  Outlet_Establishment_Year Outlet_Size  \\\n",
              "1            OUT018                       2009      Medium   \n",
              "8            OUT045                       2002        <NA>   \n",
              "4            OUT013                       1987        High   \n",
              "9            OUT017                       2007        <NA>   \n",
              "0            OUT049                       1999      Medium   \n",
              "7            OUT027                       1985      Medium   \n",
              "\n",
              "  Outlet_Location_Type        Outlet_Type  Outlet_Total_Items  \\\n",
              "1               Tier 3  Supermarket Type2                 928   \n",
              "8               Tier 2  Supermarket Type1                 929   \n",
              "4               Tier 3  Supermarket Type1                 932   \n",
              "9               Tier 2  Supermarket Type1                 926   \n",
              "0               Tier 1  Supermarket Type1                 930   \n",
              "7               Tier 3  Supermarket Type3                 935   \n",
              "\n",
              "   Outlet_Total_Sales  \n",
              "1          1851822.83  \n",
              "8         2036725.477  \n",
              "4        2142663.5782  \n",
              "9         2167465.294  \n",
              "0        2183969.8102  \n",
              "7        3453926.0514  "
            ],
            "text/html": [
              "\n",
              "  <div id=\"df-d400a549-4087-417d-84e1-28ddc48932af\">\n",
              "    <div class=\"colab-df-container\">\n",
              "      <div>\n",
              "<style scoped>\n",
              "    .dataframe tbody tr th:only-of-type {\n",
              "        vertical-align: middle;\n",
              "    }\n",
              "\n",
              "    .dataframe tbody tr th {\n",
              "        vertical-align: top;\n",
              "    }\n",
              "\n",
              "    .dataframe thead th {\n",
              "        text-align: right;\n",
              "    }\n",
              "</style>\n",
              "<table border=\"1\" class=\"dataframe\">\n",
              "  <thead>\n",
              "    <tr style=\"text-align: right;\">\n",
              "      <th></th>\n",
              "      <th>Outlet_Identifier</th>\n",
              "      <th>Outlet_Establishment_Year</th>\n",
              "      <th>Outlet_Size</th>\n",
              "      <th>Outlet_Location_Type</th>\n",
              "      <th>Outlet_Type</th>\n",
              "      <th>Outlet_Total_Items</th>\n",
              "      <th>Outlet_Total_Sales</th>\n",
              "    </tr>\n",
              "  </thead>\n",
              "  <tbody>\n",
              "    <tr>\n",
              "      <th>1</th>\n",
              "      <td>OUT018</td>\n",
              "      <td>2009</td>\n",
              "      <td>Medium</td>\n",
              "      <td>Tier 3</td>\n",
              "      <td>Supermarket Type2</td>\n",
              "      <td>928</td>\n",
              "      <td>1851822.83</td>\n",
              "    </tr>\n",
              "    <tr>\n",
              "      <th>8</th>\n",
              "      <td>OUT045</td>\n",
              "      <td>2002</td>\n",
              "      <td>&lt;NA&gt;</td>\n",
              "      <td>Tier 2</td>\n",
              "      <td>Supermarket Type1</td>\n",
              "      <td>929</td>\n",
              "      <td>2036725.477</td>\n",
              "    </tr>\n",
              "    <tr>\n",
              "      <th>4</th>\n",
              "      <td>OUT013</td>\n",
              "      <td>1987</td>\n",
              "      <td>High</td>\n",
              "      <td>Tier 3</td>\n",
              "      <td>Supermarket Type1</td>\n",
              "      <td>932</td>\n",
              "      <td>2142663.5782</td>\n",
              "    </tr>\n",
              "    <tr>\n",
              "      <th>9</th>\n",
              "      <td>OUT017</td>\n",
              "      <td>2007</td>\n",
              "      <td>&lt;NA&gt;</td>\n",
              "      <td>Tier 2</td>\n",
              "      <td>Supermarket Type1</td>\n",
              "      <td>926</td>\n",
              "      <td>2167465.294</td>\n",
              "    </tr>\n",
              "    <tr>\n",
              "      <th>0</th>\n",
              "      <td>OUT049</td>\n",
              "      <td>1999</td>\n",
              "      <td>Medium</td>\n",
              "      <td>Tier 1</td>\n",
              "      <td>Supermarket Type1</td>\n",
              "      <td>930</td>\n",
              "      <td>2183969.8102</td>\n",
              "    </tr>\n",
              "    <tr>\n",
              "      <th>7</th>\n",
              "      <td>OUT027</td>\n",
              "      <td>1985</td>\n",
              "      <td>Medium</td>\n",
              "      <td>Tier 3</td>\n",
              "      <td>Supermarket Type3</td>\n",
              "      <td>935</td>\n",
              "      <td>3453926.0514</td>\n",
              "    </tr>\n",
              "  </tbody>\n",
              "</table>\n",
              "</div>\n",
              "      <button class=\"colab-df-convert\" onclick=\"convertToInteractive('df-d400a549-4087-417d-84e1-28ddc48932af')\"\n",
              "              title=\"Convert this dataframe to an interactive table.\"\n",
              "              style=\"display:none;\">\n",
              "        \n",
              "  <svg xmlns=\"http://www.w3.org/2000/svg\" height=\"24px\"viewBox=\"0 0 24 24\"\n",
              "       width=\"24px\">\n",
              "    <path d=\"M0 0h24v24H0V0z\" fill=\"none\"/>\n",
              "    <path d=\"M18.56 5.44l.94 2.06.94-2.06 2.06-.94-2.06-.94-.94-2.06-.94 2.06-2.06.94zm-11 1L8.5 8.5l.94-2.06 2.06-.94-2.06-.94L8.5 2.5l-.94 2.06-2.06.94zm10 10l.94 2.06.94-2.06 2.06-.94-2.06-.94-.94-2.06-.94 2.06-2.06.94z\"/><path d=\"M17.41 7.96l-1.37-1.37c-.4-.4-.92-.59-1.43-.59-.52 0-1.04.2-1.43.59L10.3 9.45l-7.72 7.72c-.78.78-.78 2.05 0 2.83L4 21.41c.39.39.9.59 1.41.59.51 0 1.02-.2 1.41-.59l7.78-7.78 2.81-2.81c.8-.78.8-2.07 0-2.86zM5.41 20L4 18.59l7.72-7.72 1.47 1.35L5.41 20z\"/>\n",
              "  </svg>\n",
              "      </button>\n",
              "      \n",
              "  <style>\n",
              "    .colab-df-container {\n",
              "      display:flex;\n",
              "      flex-wrap:wrap;\n",
              "      gap: 12px;\n",
              "    }\n",
              "\n",
              "    .colab-df-convert {\n",
              "      background-color: #E8F0FE;\n",
              "      border: none;\n",
              "      border-radius: 50%;\n",
              "      cursor: pointer;\n",
              "      display: none;\n",
              "      fill: #1967D2;\n",
              "      height: 32px;\n",
              "      padding: 0 0 0 0;\n",
              "      width: 32px;\n",
              "    }\n",
              "\n",
              "    .colab-df-convert:hover {\n",
              "      background-color: #E2EBFA;\n",
              "      box-shadow: 0px 1px 2px rgba(60, 64, 67, 0.3), 0px 1px 3px 1px rgba(60, 64, 67, 0.15);\n",
              "      fill: #174EA6;\n",
              "    }\n",
              "\n",
              "    [theme=dark] .colab-df-convert {\n",
              "      background-color: #3B4455;\n",
              "      fill: #D2E3FC;\n",
              "    }\n",
              "\n",
              "    [theme=dark] .colab-df-convert:hover {\n",
              "      background-color: #434B5C;\n",
              "      box-shadow: 0px 1px 3px 1px rgba(0, 0, 0, 0.15);\n",
              "      filter: drop-shadow(0px 1px 2px rgba(0, 0, 0, 0.3));\n",
              "      fill: #FFFFFF;\n",
              "    }\n",
              "  </style>\n",
              "\n",
              "      <script>\n",
              "        const buttonEl =\n",
              "          document.querySelector('#df-d400a549-4087-417d-84e1-28ddc48932af button.colab-df-convert');\n",
              "        buttonEl.style.display =\n",
              "          google.colab.kernel.accessAllowed ? 'block' : 'none';\n",
              "\n",
              "        async function convertToInteractive(key) {\n",
              "          const element = document.querySelector('#df-d400a549-4087-417d-84e1-28ddc48932af');\n",
              "          const dataTable =\n",
              "            await google.colab.kernel.invokeFunction('convertToInteractive',\n",
              "                                                     [key], {});\n",
              "          if (!dataTable) return;\n",
              "\n",
              "          const docLinkHtml = 'Like what you see? Visit the ' +\n",
              "            '<a target=\"_blank\" href=https://colab.research.google.com/notebooks/data_table.ipynb>data table notebook</a>'\n",
              "            + ' to learn more about interactive tables.';\n",
              "          element.innerHTML = '';\n",
              "          dataTable['output_type'] = 'display_data';\n",
              "          await google.colab.output.renderOutput(dataTable, element);\n",
              "          const docLink = document.createElement('div');\n",
              "          docLink.innerHTML = docLinkHtml;\n",
              "          element.appendChild(docLink);\n",
              "        }\n",
              "      </script>\n",
              "    </div>\n",
              "  </div>\n",
              "  "
            ]
          },
          "metadata": {},
          "execution_count": 20
        }
      ]
    },
    {
      "cell_type": "markdown",
      "source": [
        "The total number of items sold doesn't reveal any distinction among the outlets as they are all near 930. \n",
        "\n",
        "The total sales also does reveal any distinction as the extremes are both medium sized outlets and the high sized outlet is near the middle of the sales figures.\n",
        "\n",
        "The outlet type also doesn't help, as the 3 medium sized outlets are all different supermarket types.\n",
        "\n",
        "The outlet type location doesn't help, as medium sized outlets span all three tiers.\n",
        "\n",
        "Only 3 of the 4 supermarkets (regardless of type number) are medium. Only 1 is high sized.\n",
        "\n",
        "Additionally, a high sized outlet has a greater cost for land aquisition, construction, and operation. Since the high sized outlet was established in 1987, and the unknown sized outlets were esatblished over a decade later, there was plenty of time for someone to analyse sales figures. Since the high sized outlet performed similarly to the medium sized outlets, there would not be a compelling reason to invest in a larger outlet.\n",
        "\n",
        "From this I would say the unknown sizes are likely to be medium."
      ],
      "metadata": {
        "id": "oFyQHH1m93om"
      }
    },
    {
      "cell_type": "code",
      "source": [
        "df_sales.update(df_sales.loc[ : , \"Outlet_Size\" ].fillna(value =\"Medium\"))\n",
        "df_sales.info()"
      ],
      "metadata": {
        "colab": {
          "base_uri": "https://localhost:8080/"
        },
        "id": "EPKN199AjH1L",
        "outputId": "8d501cba-da31-4ece-b0d6-b333d3297242"
      },
      "execution_count": 22,
      "outputs": [
        {
          "output_type": "stream",
          "name": "stdout",
          "text": [
            "<class 'pandas.core.frame.DataFrame'>\n",
            "Int64Index: 8523 entries, 0 to 8522\n",
            "Data columns (total 14 columns):\n",
            " #   Column                     Non-Null Count  Dtype  \n",
            "---  ------                     --------------  -----  \n",
            " 0   Item_Identifier            8523 non-null   string \n",
            " 1   Item_Weight                8519 non-null   Float64\n",
            " 2   Item_Fat_Content           8523 non-null   string \n",
            " 3   Item_Visibility            8523 non-null   Float64\n",
            " 4   Item_Type                  8523 non-null   string \n",
            " 5   Item_MRP                   8523 non-null   Float64\n",
            " 6   Outlet_Identifier          8523 non-null   string \n",
            " 7   Outlet_Establishment_Year  8523 non-null   Int64  \n",
            " 8   Outlet_Size                8523 non-null   object \n",
            " 9   Outlet_Location_Type       8523 non-null   string \n",
            " 10  Outlet_Type                8523 non-null   string \n",
            " 11  Item_Outlet_Sales          8523 non-null   Float64\n",
            " 12  Outlet_Total_Items         8523 non-null   Int64  \n",
            " 13  Outlet_Total_Sales         8523 non-null   Float64\n",
            "dtypes: Float64(5), Int64(2), object(1), string(6)\n",
            "memory usage: 1.0+ MB\n"
          ]
        }
      ]
    },
    {
      "cell_type": "markdown",
      "source": [
        "Other than the 4 items of unknow weight, all the data has been filled."
      ],
      "metadata": {
        "id": "-H05iMaqjLsS"
      }
    },
    {
      "cell_type": "markdown",
      "source": [
        "# → Summary Statistics"
      ],
      "metadata": {
        "id": "XSqaTZQ-T5jj"
      }
    },
    {
      "cell_type": "markdown",
      "source": [
        "The summary statistics can be shown for the numerical value columns."
      ],
      "metadata": {
        "id": "oQUUQVbFOv-c"
      }
    },
    {
      "cell_type": "code",
      "source": [
        "df_sales.describe()"
      ],
      "metadata": {
        "id": "czLUOGsXoCkj",
        "colab": {
          "base_uri": "https://localhost:8080/",
          "height": 300
        },
        "outputId": "52c1b110-6d1b-40ba-85a3-a8ad3190d073"
      },
      "execution_count": 49,
      "outputs": [
        {
          "output_type": "execute_result",
          "data": {
            "text/plain": [
              "       Item_Weight  Item_Visibility     Item_MRP  Outlet_Establishment_Year  \\\n",
              "count  8519.000000      8523.000000  8523.000000                8523.000000   \n",
              "mean     12.875420         0.066132   140.992782                1997.831867   \n",
              "std       4.646098         0.051598    62.275067                   8.371760   \n",
              "min       4.555000         0.000000    31.290000                1985.000000   \n",
              "25%       8.785000         0.026989    93.826500                1987.000000   \n",
              "50%      12.650000         0.053931   143.012800                1999.000000   \n",
              "75%      16.850000         0.094585   185.643700                2004.000000   \n",
              "max      21.350000         0.328391   266.888400                2009.000000   \n",
              "\n",
              "       Item_Outlet_Sales  Outlet_Total_Items  Outlet_Total_Sales  \n",
              "count        8523.000000         8523.000000        8.523000e+03  \n",
              "mean         2181.288914          880.682741        2.012675e+06  \n",
              "std          1706.499616          129.397886        8.195691e+05  \n",
              "min            33.290000          528.000000        1.796941e+05  \n",
              "25%           834.247400          928.000000        2.036725e+06  \n",
              "50%          1794.331000          930.000000        2.142664e+06  \n",
              "75%          3101.296400          930.000000        2.183970e+06  \n",
              "max         13086.964800          935.000000        3.453926e+06  "
            ],
            "text/html": [
              "\n",
              "  <div id=\"df-048a8c40-22f1-456b-b827-3c4f8c807915\">\n",
              "    <div class=\"colab-df-container\">\n",
              "      <div>\n",
              "<style scoped>\n",
              "    .dataframe tbody tr th:only-of-type {\n",
              "        vertical-align: middle;\n",
              "    }\n",
              "\n",
              "    .dataframe tbody tr th {\n",
              "        vertical-align: top;\n",
              "    }\n",
              "\n",
              "    .dataframe thead th {\n",
              "        text-align: right;\n",
              "    }\n",
              "</style>\n",
              "<table border=\"1\" class=\"dataframe\">\n",
              "  <thead>\n",
              "    <tr style=\"text-align: right;\">\n",
              "      <th></th>\n",
              "      <th>Item_Weight</th>\n",
              "      <th>Item_Visibility</th>\n",
              "      <th>Item_MRP</th>\n",
              "      <th>Outlet_Establishment_Year</th>\n",
              "      <th>Item_Outlet_Sales</th>\n",
              "      <th>Outlet_Total_Items</th>\n",
              "      <th>Outlet_Total_Sales</th>\n",
              "    </tr>\n",
              "  </thead>\n",
              "  <tbody>\n",
              "    <tr>\n",
              "      <th>count</th>\n",
              "      <td>8519.000000</td>\n",
              "      <td>8523.000000</td>\n",
              "      <td>8523.000000</td>\n",
              "      <td>8523.000000</td>\n",
              "      <td>8523.000000</td>\n",
              "      <td>8523.000000</td>\n",
              "      <td>8.523000e+03</td>\n",
              "    </tr>\n",
              "    <tr>\n",
              "      <th>mean</th>\n",
              "      <td>12.875420</td>\n",
              "      <td>0.066132</td>\n",
              "      <td>140.992782</td>\n",
              "      <td>1997.831867</td>\n",
              "      <td>2181.288914</td>\n",
              "      <td>880.682741</td>\n",
              "      <td>2.012675e+06</td>\n",
              "    </tr>\n",
              "    <tr>\n",
              "      <th>std</th>\n",
              "      <td>4.646098</td>\n",
              "      <td>0.051598</td>\n",
              "      <td>62.275067</td>\n",
              "      <td>8.371760</td>\n",
              "      <td>1706.499616</td>\n",
              "      <td>129.397886</td>\n",
              "      <td>8.195691e+05</td>\n",
              "    </tr>\n",
              "    <tr>\n",
              "      <th>min</th>\n",
              "      <td>4.555000</td>\n",
              "      <td>0.000000</td>\n",
              "      <td>31.290000</td>\n",
              "      <td>1985.000000</td>\n",
              "      <td>33.290000</td>\n",
              "      <td>528.000000</td>\n",
              "      <td>1.796941e+05</td>\n",
              "    </tr>\n",
              "    <tr>\n",
              "      <th>25%</th>\n",
              "      <td>8.785000</td>\n",
              "      <td>0.026989</td>\n",
              "      <td>93.826500</td>\n",
              "      <td>1987.000000</td>\n",
              "      <td>834.247400</td>\n",
              "      <td>928.000000</td>\n",
              "      <td>2.036725e+06</td>\n",
              "    </tr>\n",
              "    <tr>\n",
              "      <th>50%</th>\n",
              "      <td>12.650000</td>\n",
              "      <td>0.053931</td>\n",
              "      <td>143.012800</td>\n",
              "      <td>1999.000000</td>\n",
              "      <td>1794.331000</td>\n",
              "      <td>930.000000</td>\n",
              "      <td>2.142664e+06</td>\n",
              "    </tr>\n",
              "    <tr>\n",
              "      <th>75%</th>\n",
              "      <td>16.850000</td>\n",
              "      <td>0.094585</td>\n",
              "      <td>185.643700</td>\n",
              "      <td>2004.000000</td>\n",
              "      <td>3101.296400</td>\n",
              "      <td>930.000000</td>\n",
              "      <td>2.183970e+06</td>\n",
              "    </tr>\n",
              "    <tr>\n",
              "      <th>max</th>\n",
              "      <td>21.350000</td>\n",
              "      <td>0.328391</td>\n",
              "      <td>266.888400</td>\n",
              "      <td>2009.000000</td>\n",
              "      <td>13086.964800</td>\n",
              "      <td>935.000000</td>\n",
              "      <td>3.453926e+06</td>\n",
              "    </tr>\n",
              "  </tbody>\n",
              "</table>\n",
              "</div>\n",
              "      <button class=\"colab-df-convert\" onclick=\"convertToInteractive('df-048a8c40-22f1-456b-b827-3c4f8c807915')\"\n",
              "              title=\"Convert this dataframe to an interactive table.\"\n",
              "              style=\"display:none;\">\n",
              "        \n",
              "  <svg xmlns=\"http://www.w3.org/2000/svg\" height=\"24px\"viewBox=\"0 0 24 24\"\n",
              "       width=\"24px\">\n",
              "    <path d=\"M0 0h24v24H0V0z\" fill=\"none\"/>\n",
              "    <path d=\"M18.56 5.44l.94 2.06.94-2.06 2.06-.94-2.06-.94-.94-2.06-.94 2.06-2.06.94zm-11 1L8.5 8.5l.94-2.06 2.06-.94-2.06-.94L8.5 2.5l-.94 2.06-2.06.94zm10 10l.94 2.06.94-2.06 2.06-.94-2.06-.94-.94-2.06-.94 2.06-2.06.94z\"/><path d=\"M17.41 7.96l-1.37-1.37c-.4-.4-.92-.59-1.43-.59-.52 0-1.04.2-1.43.59L10.3 9.45l-7.72 7.72c-.78.78-.78 2.05 0 2.83L4 21.41c.39.39.9.59 1.41.59.51 0 1.02-.2 1.41-.59l7.78-7.78 2.81-2.81c.8-.78.8-2.07 0-2.86zM5.41 20L4 18.59l7.72-7.72 1.47 1.35L5.41 20z\"/>\n",
              "  </svg>\n",
              "      </button>\n",
              "      \n",
              "  <style>\n",
              "    .colab-df-container {\n",
              "      display:flex;\n",
              "      flex-wrap:wrap;\n",
              "      gap: 12px;\n",
              "    }\n",
              "\n",
              "    .colab-df-convert {\n",
              "      background-color: #E8F0FE;\n",
              "      border: none;\n",
              "      border-radius: 50%;\n",
              "      cursor: pointer;\n",
              "      display: none;\n",
              "      fill: #1967D2;\n",
              "      height: 32px;\n",
              "      padding: 0 0 0 0;\n",
              "      width: 32px;\n",
              "    }\n",
              "\n",
              "    .colab-df-convert:hover {\n",
              "      background-color: #E2EBFA;\n",
              "      box-shadow: 0px 1px 2px rgba(60, 64, 67, 0.3), 0px 1px 3px 1px rgba(60, 64, 67, 0.15);\n",
              "      fill: #174EA6;\n",
              "    }\n",
              "\n",
              "    [theme=dark] .colab-df-convert {\n",
              "      background-color: #3B4455;\n",
              "      fill: #D2E3FC;\n",
              "    }\n",
              "\n",
              "    [theme=dark] .colab-df-convert:hover {\n",
              "      background-color: #434B5C;\n",
              "      box-shadow: 0px 1px 3px 1px rgba(0, 0, 0, 0.15);\n",
              "      filter: drop-shadow(0px 1px 2px rgba(0, 0, 0, 0.3));\n",
              "      fill: #FFFFFF;\n",
              "    }\n",
              "  </style>\n",
              "\n",
              "      <script>\n",
              "        const buttonEl =\n",
              "          document.querySelector('#df-048a8c40-22f1-456b-b827-3c4f8c807915 button.colab-df-convert');\n",
              "        buttonEl.style.display =\n",
              "          google.colab.kernel.accessAllowed ? 'block' : 'none';\n",
              "\n",
              "        async function convertToInteractive(key) {\n",
              "          const element = document.querySelector('#df-048a8c40-22f1-456b-b827-3c4f8c807915');\n",
              "          const dataTable =\n",
              "            await google.colab.kernel.invokeFunction('convertToInteractive',\n",
              "                                                     [key], {});\n",
              "          if (!dataTable) return;\n",
              "\n",
              "          const docLinkHtml = 'Like what you see? Visit the ' +\n",
              "            '<a target=\"_blank\" href=https://colab.research.google.com/notebooks/data_table.ipynb>data table notebook</a>'\n",
              "            + ' to learn more about interactive tables.';\n",
              "          element.innerHTML = '';\n",
              "          dataTable['output_type'] = 'display_data';\n",
              "          await google.colab.output.renderOutput(dataTable, element);\n",
              "          const docLink = document.createElement('div');\n",
              "          docLink.innerHTML = docLinkHtml;\n",
              "          element.appendChild(docLink);\n",
              "        }\n",
              "      </script>\n",
              "    </div>\n",
              "  </div>\n",
              "  "
            ]
          },
          "metadata": {},
          "execution_count": 49
        }
      ]
    },
    {
      "cell_type": "markdown",
      "source": [
        "Note that finding statistics on the Outlet_Establishment_Year may seems odd. However, it might be important how an outlet's age might affect sales. However, the count statistic for the year doesn't have any clear meaning an is purely an artifact of the calender system. The other year statistics can be use to find the corresponding age statistics."
      ],
      "metadata": {
        "id": "DqwkyaQjofdr"
      }
    },
    {
      "cell_type": "markdown",
      "source": [
        "---\n",
        "#  → Visualization\n",
        "\n",
        "---"
      ],
      "metadata": {
        "id": "zitBlybzlxvq"
      }
    },
    {
      "cell_type": "markdown",
      "source": [
        "## →→"
      ],
      "metadata": {
        "id": "QBtU7ag1mHu6"
      }
    },
    {
      "cell_type": "code",
      "source": [
        "import seaborn as sns\n",
        "import matplotlib.pyplot as plt"
      ],
      "metadata": {
        "id": "nrGv1ep8mQsx"
      },
      "execution_count": 28,
      "outputs": []
    },
    {
      "cell_type": "code",
      "source": [
        "plt.figure(figsize=(15,5))\n",
        "plt.xticks(np.arange(0, 25, 1));\n",
        "plt.xlim(0,25);\n",
        "sns.set(font_scale=1.5,style=\"white\")\n",
        "item_weight_ax = sns.histplot(data=df_sales,x=\"Item_Weight\",binwidth=1,binrange=(0,25),element=\"bars\",color=\"#fc6\", edgecolor=\"k\",alpha=0.5)\n",
        "item_weight_ax.set(title = \"Occurences of Item Weights \\n Among the Items Sold from the Outlets\" ,xlabel ='Item Weight (units unknown)');\n",
        "item_weight_ax.yaxis.grid(True);\n",
        "item_weight_ax.tick_params(bottom=True, left=True)"
      ],
      "metadata": {
        "colab": {
          "base_uri": "https://localhost:8080/",
          "height": 393
        },
        "id": "E8mLlPatmUTS",
        "outputId": "c9b7c52f-3d94-488e-cd9c-43d67f60ce10"
      },
      "execution_count": 55,
      "outputs": [
        {
          "output_type": "display_data",
          "data": {
            "text/plain": [
              "<Figure size 1080x360 with 1 Axes>"
            ],
            "image/png": "[encoded data removed]"
          },
          "metadata": {}
        }
      ]
    },
    {
      "cell_type": "markdown",
      "source": [
        "From the graph histogram for occurences of item weight, it appears that the weights are distributed almost uniformly across their range. If we plot the same data in a box plot, we should be able to reach the same conclusion."
      ],
      "metadata": {
        "id": "_5hAsi6m01x_"
      }
    },
    {
      "cell_type": "code",
      "source": [
        "plt.figure(figsize=(7.5,7.5))\n",
        "sns.set(font_scale=1.5,style=\"white\")\n",
        "cute_colors= [\"#fc9\",\"#9cf\"]\n",
        "box_ax = sns.boxplot(data=df_sales, y=\"Item_Weight\",orient=\"v\",palette=cute_colors,linewidth=3,width=0.5);\n",
        "box_ax.yaxis.grid(True);\n",
        "#\n",
        "box_ax.set(title='Box Plot of Item Weights \\n of Items Sold from the Outlets \\n',xlabel=\"Items\",ylabel=\"Item Weights \\n (units unknown) \\n\");"
      ],
      "metadata": {
        "colab": {
          "base_uri": "https://localhost:8080/",
          "height": 532
        },
        "id": "ZdZbQmqIrJbq",
        "outputId": "1bce98b1-98c1-40f3-ad66-be431783eb7b"
      },
      "execution_count": 59,
      "outputs": [
        {
          "output_type": "display_data",
          "data": {
            "text/plain": [
              "<Figure size 540x540 with 1 Axes>"
            ],
            "image/png": "[encoded data removed]"
          },
          "metadata": {}
        }
      ]
    },
    {
      "cell_type": "markdown",
      "source": [
        "And it does appear each quartile of the item weight data is approximately equal and there are no outliers. So yes, item weights are approximately uniformly distributed across their range."
      ],
      "metadata": {
        "id": "dchUI9JM1Z7P"
      }
    },
    {
      "cell_type": "markdown",
      "source": [
        "Looking at other properties such as item visibility gives a very different picture."
      ],
      "metadata": {
        "id": "IvmCCVQU1tmT"
      }
    },
    {
      "cell_type": "code",
      "source": [
        "plt.figure(figsize=(15,5))\n",
        "plt.xticks(np.arange(0, 0.375, 0.025));\n",
        "#plt.xlim(0,25);\n",
        "sns.set(font_scale=1.5,style=\"white\")\n",
        "item_weight_ax = sns.histplot(data=df_sales,x=\"Item_Visibility\",binwidth=0.025,binrange=(0,0.35),element=\"bars\",color=\"#6cf\", edgecolor=\"k\",alpha=0.5)\n",
        "item_weight_ax.set(title = \"\\n Occurences of Item Visibility \\n Among the Items Sold from the Outlets \\n\" ,xlabel ='\\n Item Visibility (units unknown) \\n');\n",
        "item_weight_ax.yaxis.grid(True);\n",
        "item_weight_ax.tick_params(bottom=True, left=True,rotation=90)"
      ],
      "metadata": {
        "colab": {
          "base_uri": "https://localhost:8080/",
          "height": 504
        },
        "id": "1f3FfqlCnpRy",
        "outputId": "a6668d32-57cf-4a71-bea4-5e6a50f98b8a"
      },
      "execution_count": 56,
      "outputs": [
        {
          "output_type": "display_data",
          "data": {
            "text/plain": [
              "<Figure size 1080x360 with 1 Axes>"
            ],
            "image/png": "[encoded data removed]"
          },
          "metadata": {}
        }
      ]
    },
    {
      "cell_type": "markdown",
      "source": [
        "Here we can see that most items have a low visibility value and the number of items with a given visibilty drops as the visibility rises (there is an negative correlation). However, the relationship is not linear, but might be a negative power relationship or have a poisson distribution. Further anaylsis will be required."
      ],
      "metadata": {
        "id": "A6FbWDOE11Vo"
      }
    },
    {
      "cell_type": "markdown",
      "source": [
        "An interesting relationship is the sales of each item at each outlet."
      ],
      "metadata": {
        "id": "wn5xQ_la2XSn"
      }
    },
    {
      "cell_type": "code",
      "source": [
        "plt.figure(figsize=(15,10))\n",
        "sns.set(font_scale=1.5,style=\"white\")\n",
        "box_ax = sns.boxplot(data=df_sales.sort_values([\"Outlet_Identifier\"]), y=\"Item_Outlet_Sales\",x=\"Outlet_Identifier\",orient=\"v\",linewidth=3,width=0.5);\n",
        "box_ax.yaxis.grid(True);\n",
        "\n",
        "box_ax.set(title=\"Item Sales from Each Outlet\",xlabel=\"\\n Outlet Identifier\",ylabel=\"\\n Sales of Each Item at the Outlet \\n (units unknown)  \\n\");\n",
        "box_ax.yaxis.grid(True);\n",
        "box_ax.tick_params(bottom=True, left=True,rotation=90)"
      ],
      "metadata": {
        "colab": {
          "base_uri": "https://localhost:8080/",
          "height": 713
        },
        "id": "Lk5Z9i0ktBKT",
        "outputId": "97e2b156-33c9-470f-f68a-63f78ec85eed"
      },
      "execution_count": 85,
      "outputs": [
        {
          "output_type": "display_data",
          "data": {
            "text/plain": [
              "<Figure size 1080x720 with 1 Axes>"
            ],
            "image/png": "[encoded data removed]"
          },
          "metadata": {}
        }
      ]
    },
    {
      "cell_type": "markdown",
      "source": [
        "This shows us that most items have sales figures that are similar across most outlets. Outlets `OUT010` and `OuT019` are the exception, but remember they are also the two small grocery stores. Thi graph supports the interperation of the values I saw when I decided that `OUT010` should be small size."
      ],
      "metadata": {
        "id": "wE2kg1at2ij4"
      }
    },
    {
      "cell_type": "markdown",
      "source": [
        "A heatmap of all the data may be useful for finding other relationship correlations that are not obvious."
      ],
      "metadata": {
        "id": "2XTkSmy93VOX"
      }
    },
    {
      "cell_type": "code",
      "source": [
        "plt.figure(figsize=(12,12))\n",
        "corr = df_sales.corr()#.drop(columns=[\"Item_Identifier\",\"Item_Fat_Content\",\"Item_Type\",\"Outlet_Identifier\",]).corr()\n",
        "heat_ax = sns.heatmap(corr,cmap='coolwarm', annot=True,square=True,center=0)\n",
        "\n",
        "heat_ax.set(title=\"Heatmap Correlating the Data \");"
      ],
      "metadata": {
        "colab": {
          "base_uri": "https://localhost:8080/",
          "height": 862
        },
        "id": "6JsiPWp1vQJR",
        "outputId": "b2e1e8bc-10d2-4cd7-ca1d-17f67dad90c2"
      },
      "execution_count": 95,
      "outputs": [
        {
          "output_type": "display_data",
          "data": {
            "text/plain": [
              "<Figure size 864x864 with 2 Axes>"
            ],
            "image/png": "[encoded data removed]"
          },
          "metadata": {}
        }
      ]
    },
    {
      "cell_type": "code",
      "source": [
        ""
      ],
      "metadata": {
        "id": "DCKCOP673tou"
      },
      "execution_count": null,
      "outputs": []
    }
  ]
}